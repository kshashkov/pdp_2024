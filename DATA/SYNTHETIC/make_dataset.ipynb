{
 "cells": [
  {
   "cell_type": "code",
   "execution_count": 60,
   "metadata": {
    "collapsed": true
   },
   "outputs": [],
   "source": [
    "import pandas as pd\n",
    "import os\n",
    "import re"
   ]
  },
  {
   "cell_type": "markdown",
   "source": [
    "### Extract Features"
   ],
   "metadata": {
    "collapsed": false
   }
  },
  {
   "cell_type": "code",
   "execution_count": 61,
   "outputs": [],
   "source": [
    "column_names = [\"text\",\"description\",\"action\",\"expected_response\",\"positive\"]\n",
    "data = pd.DataFrame(columns=column_names)"
   ],
   "metadata": {
    "collapsed": false
   }
  },
  {
   "cell_type": "code",
   "execution_count": 62,
   "outputs": [],
   "source": [
    "def parse_text_file(file_path):\n",
    "    with open(file_path, 'r', encoding='utf-8') as file:\n",
    "        text = file.read()\n",
    "    cases = text.split('\\n\\n')\n",
    "    for i in range(len(cases)):\n",
    "        cases[i] = cases[i][3:].replace(\"   - \", \"\").replace(\"*\", \"\")\n",
    "    df = pd.DataFrame(columns=column_names)\n",
    "    for case in cases:\n",
    "        lines = case.strip().split('\\n')\n",
    "        if len(lines) >= 3:\n",
    "            desc = lines[0].strip()\n",
    "            if len(desc) == 0:\n",
    "                desc = None\n",
    "\n",
    "            action_line = lines[1]\n",
    "            action_split = action_line.split(':')\n",
    "            if len(action_split) == 2:\n",
    "                action = action_split[1].strip()\n",
    "            else:\n",
    "                action = None\n",
    "\n",
    "            expected_response_line = lines[2]\n",
    "            expected_response_split = expected_response_line.split(':')\n",
    "            if len(expected_response_split) == 2:\n",
    "                expected_response = expected_response_split[1].strip()\n",
    "            else:\n",
    "                expected_response = None\n",
    "\n",
    "            if 'Positive' in file_path:\n",
    "                positive = True\n",
    "            else:\n",
    "                positive = False\n",
    "\n",
    "            df_row = pd.DataFrame([[case.lower(),desc.lower(),action.lower(),expected_response.lower(),positive]], columns=column_names)\n",
    "            df = pd.concat([df, df_row], ignore_index=True)\n",
    "\n",
    "    return df"
   ],
   "metadata": {
    "collapsed": false
   }
  },
  {
   "cell_type": "code",
   "execution_count": 63,
   "outputs": [],
   "source": [
    "raw_data_path = 'raw/'\n",
    "txt_list = os.listdir(raw_data_path)\n",
    "for txt in txt_list:\n",
    "    txt_df = parse_text_file(raw_data_path + txt)\n",
    "    data = pd.concat([data,txt_df], ignore_index=True)"
   ],
   "metadata": {
    "collapsed": false
   }
  },
  {
   "cell_type": "code",
   "execution_count": 64,
   "outputs": [
    {
     "data": {
      "text/plain": "                                                text  \\\n0  администратор удаляет товар из каталога.\\nдейс...   \n1  модератор удаляет комментарий под постом.\\nдей...   \n2  менеджер удаляет клиента из базы данных.\\nдейс...   \n3  редактор удаляет статью из журнала.\\nдействие:...   \n4  модератор удаляет изображение из галереи.\\nдей...   \n\n                                 description  \\\n0   администратор удаляет товар из каталога.   \n1  модератор удаляет комментарий под постом.   \n2   менеджер удаляет клиента из базы данных.   \n3        редактор удаляет статью из журнала.   \n4  модератор удаляет изображение из галереи.   \n\n                                              action  \\\n0  delete-запрос к конечной точке \"/catalog/remov...   \n1  delete-запрос к конечной точке \"/post/comment/...   \n2  delete-запрос к конечной точке \"/database/cust...   \n3  delete-запрос к конечной точке \"/magazine/arti...   \n4  delete-запрос к конечной точке \"/gallery/image...   \n\n                                expected_response positive  \n0      подтверждение удаления товара из каталога.     True  \n1             подтверждение удаления комментария.     True  \n2  подтверждение удаления клиента из базы данных.     True  \n3       подтверждение удаления статьи из журнала.     True  \n4  подтверждение удаления изображения из галереи.     True  ",
      "text/html": "<div>\n<style scoped>\n    .dataframe tbody tr th:only-of-type {\n        vertical-align: middle;\n    }\n\n    .dataframe tbody tr th {\n        vertical-align: top;\n    }\n\n    .dataframe thead th {\n        text-align: right;\n    }\n</style>\n<table border=\"1\" class=\"dataframe\">\n  <thead>\n    <tr style=\"text-align: right;\">\n      <th></th>\n      <th>text</th>\n      <th>description</th>\n      <th>action</th>\n      <th>expected_response</th>\n      <th>positive</th>\n    </tr>\n  </thead>\n  <tbody>\n    <tr>\n      <th>0</th>\n      <td>администратор удаляет товар из каталога.\\nдейс...</td>\n      <td>администратор удаляет товар из каталога.</td>\n      <td>delete-запрос к конечной точке \"/catalog/remov...</td>\n      <td>подтверждение удаления товара из каталога.</td>\n      <td>True</td>\n    </tr>\n    <tr>\n      <th>1</th>\n      <td>модератор удаляет комментарий под постом.\\nдей...</td>\n      <td>модератор удаляет комментарий под постом.</td>\n      <td>delete-запрос к конечной точке \"/post/comment/...</td>\n      <td>подтверждение удаления комментария.</td>\n      <td>True</td>\n    </tr>\n    <tr>\n      <th>2</th>\n      <td>менеджер удаляет клиента из базы данных.\\nдейс...</td>\n      <td>менеджер удаляет клиента из базы данных.</td>\n      <td>delete-запрос к конечной точке \"/database/cust...</td>\n      <td>подтверждение удаления клиента из базы данных.</td>\n      <td>True</td>\n    </tr>\n    <tr>\n      <th>3</th>\n      <td>редактор удаляет статью из журнала.\\nдействие:...</td>\n      <td>редактор удаляет статью из журнала.</td>\n      <td>delete-запрос к конечной точке \"/magazine/arti...</td>\n      <td>подтверждение удаления статьи из журнала.</td>\n      <td>True</td>\n    </tr>\n    <tr>\n      <th>4</th>\n      <td>модератор удаляет изображение из галереи.\\nдей...</td>\n      <td>модератор удаляет изображение из галереи.</td>\n      <td>delete-запрос к конечной точке \"/gallery/image...</td>\n      <td>подтверждение удаления изображения из галереи.</td>\n      <td>True</td>\n    </tr>\n  </tbody>\n</table>\n</div>"
     },
     "execution_count": 64,
     "metadata": {},
     "output_type": "execute_result"
    }
   ],
   "source": [
    "data.head()"
   ],
   "metadata": {
    "collapsed": false
   }
  },
  {
   "cell_type": "code",
   "execution_count": 65,
   "outputs": [
    {
     "name": "stdout",
     "output_type": "stream",
     "text": [
      "<class 'pandas.core.frame.DataFrame'>\n",
      "RangeIndex: 400 entries, 0 to 399\n",
      "Data columns (total 5 columns):\n",
      " #   Column             Non-Null Count  Dtype \n",
      "---  ------             --------------  ----- \n",
      " 0   text               400 non-null    object\n",
      " 1   description        400 non-null    object\n",
      " 2   action             400 non-null    object\n",
      " 3   expected_response  400 non-null    object\n",
      " 4   positive           400 non-null    object\n",
      "dtypes: object(5)\n",
      "memory usage: 15.8+ KB\n"
     ]
    }
   ],
   "source": [
    "data.info()"
   ],
   "metadata": {
    "collapsed": false
   }
  },
  {
   "cell_type": "code",
   "execution_count": 66,
   "outputs": [
    {
     "data": {
      "text/plain": "                                                     text  \\\ncount                                                 400   \nunique                                                387   \ntop      дизайнер пытается удалить файл, который был у...   \nfreq                                                    2   \n\n                                              description  \\\ncount                                                 400   \nunique                                                380   \ntop     покупатель удаляет товар из корзины перед офор...   \nfreq                                                    2   \n\n                                                   action  \\\ncount                                                 400   \nunique                                                337   \ntop     get-запрос на эндпоинт \"/realtor/properties/999\".   \nfreq                                                    4   \n\n                        expected_response positive  \ncount                                 400      400  \nunique                                364        2  \ntop     код ошибки 404 - товар не найден.     True  \nfreq                                    3      200  ",
      "text/html": "<div>\n<style scoped>\n    .dataframe tbody tr th:only-of-type {\n        vertical-align: middle;\n    }\n\n    .dataframe tbody tr th {\n        vertical-align: top;\n    }\n\n    .dataframe thead th {\n        text-align: right;\n    }\n</style>\n<table border=\"1\" class=\"dataframe\">\n  <thead>\n    <tr style=\"text-align: right;\">\n      <th></th>\n      <th>text</th>\n      <th>description</th>\n      <th>action</th>\n      <th>expected_response</th>\n      <th>positive</th>\n    </tr>\n  </thead>\n  <tbody>\n    <tr>\n      <th>count</th>\n      <td>400</td>\n      <td>400</td>\n      <td>400</td>\n      <td>400</td>\n      <td>400</td>\n    </tr>\n    <tr>\n      <th>unique</th>\n      <td>387</td>\n      <td>380</td>\n      <td>337</td>\n      <td>364</td>\n      <td>2</td>\n    </tr>\n    <tr>\n      <th>top</th>\n      <td>дизайнер пытается удалить файл, который был у...</td>\n      <td>покупатель удаляет товар из корзины перед офор...</td>\n      <td>get-запрос на эндпоинт \"/realtor/properties/999\".</td>\n      <td>код ошибки 404 - товар не найден.</td>\n      <td>True</td>\n    </tr>\n    <tr>\n      <th>freq</th>\n      <td>2</td>\n      <td>2</td>\n      <td>4</td>\n      <td>3</td>\n      <td>200</td>\n    </tr>\n  </tbody>\n</table>\n</div>"
     },
     "execution_count": 66,
     "metadata": {},
     "output_type": "execute_result"
    }
   ],
   "source": [
    "data.describe()"
   ],
   "metadata": {
    "collapsed": false
   }
  },
  {
   "cell_type": "code",
   "execution_count": 67,
   "outputs": [],
   "source": [
    "def get_req_type(action):\n",
    "    action_split = action.split('-')\n",
    "    if len(action_split) >= 2:\n",
    "        req = action_split[0].strip()\n",
    "    else:\n",
    "        req = None\n",
    "    return req"
   ],
   "metadata": {
    "collapsed": false
   }
  },
  {
   "cell_type": "code",
   "execution_count": 68,
   "outputs": [],
   "source": [
    "def get_actor(action):\n",
    "    dsc_split = action.split('ет')\n",
    "    actor = None\n",
    "    if len(dsc_split) >= 2:\n",
    "        dsc_split_0 = dsc_split[0].strip()\n",
    "        dsc_double_split = dsc_split_0.split(' ')\n",
    "        if len(dsc_double_split) >= 2:\n",
    "            space = ' '\n",
    "            actor = space.join(dsc_double_split[:-1]).strip().lower()\n",
    "        elif len(dsc_split) >= 3:\n",
    "            dsc_split_01 = ''.join(dsc_split[:2])\n",
    "            dsc_double_split = dsc_split_01.split(' ')\n",
    "            if len(dsc_double_split) >= 2:\n",
    "                space = ' '\n",
    "                actor = space.join(dsc_double_split[:-1]).strip().lower()\n",
    "    return actor"
   ],
   "metadata": {
    "collapsed": false
   }
  },
  {
   "cell_type": "code",
   "execution_count": 69,
   "outputs": [],
   "source": [
    "def get_response_code(expectation):\n",
    "    numbers = re.findall(r'\\d+', expectation)\n",
    "    if len(numbers) >= 1:\n",
    "        return numbers[0].strip()\n",
    "    else:\n",
    "        return '200'"
   ],
   "metadata": {
    "collapsed": false
   }
  },
  {
   "cell_type": "code",
   "execution_count": 70,
   "outputs": [],
   "source": [
    "def get_endpoint(action):\n",
    "    action_split = action.split('\"')\n",
    "    if len(action_split) >= 2:\n",
    "        endpoint = action_split[1].strip()\n",
    "    else:\n",
    "        endpoint = None\n",
    "    return endpoint"
   ],
   "metadata": {
    "collapsed": false
   }
  },
  {
   "cell_type": "code",
   "execution_count": 71,
   "outputs": [],
   "source": [
    "data['actor'] = data['description'].apply(get_actor)\n",
    "data['request_type'] = data['action'].apply(get_req_type)\n",
    "data['endpoint'] = data['action'].apply(get_endpoint)\n",
    "data['response_code'] = data['expected_response'].apply(get_response_code)"
   ],
   "metadata": {
    "collapsed": false
   }
  },
  {
   "cell_type": "code",
   "execution_count": 72,
   "outputs": [
    {
     "data": {
      "text/plain": "                                                text  \\\n0  администратор удаляет товар из каталога.\\nдейс...   \n1  модератор удаляет комментарий под постом.\\nдей...   \n2  менеджер удаляет клиента из базы данных.\\nдейс...   \n3  редактор удаляет статью из журнала.\\nдействие:...   \n4  модератор удаляет изображение из галереи.\\nдей...   \n\n                                 description  \\\n0   администратор удаляет товар из каталога.   \n1  модератор удаляет комментарий под постом.   \n2   менеджер удаляет клиента из базы данных.   \n3        редактор удаляет статью из журнала.   \n4  модератор удаляет изображение из галереи.   \n\n                                              action  \\\n0  delete-запрос к конечной точке \"/catalog/remov...   \n1  delete-запрос к конечной точке \"/post/comment/...   \n2  delete-запрос к конечной точке \"/database/cust...   \n3  delete-запрос к конечной точке \"/magazine/arti...   \n4  delete-запрос к конечной точке \"/gallery/image...   \n\n                                expected_response positive          actor  \\\n0      подтверждение удаления товара из каталога.     True  администратор   \n1             подтверждение удаления комментария.     True      модератор   \n2  подтверждение удаления клиента из базы данных.     True       менеджер   \n3       подтверждение удаления статьи из журнала.     True       редактор   \n4  подтверждение удаления изображения из галереи.     True      модератор   \n\n  request_type                   endpoint response_code  \n0       delete            /catalog/remove           200  \n1       delete       /post/comment/remove           200  \n2       delete  /database/customer/remove           200  \n3       delete   /magazine/article/remove           200  \n4       delete      /gallery/image/remove           200  ",
      "text/html": "<div>\n<style scoped>\n    .dataframe tbody tr th:only-of-type {\n        vertical-align: middle;\n    }\n\n    .dataframe tbody tr th {\n        vertical-align: top;\n    }\n\n    .dataframe thead th {\n        text-align: right;\n    }\n</style>\n<table border=\"1\" class=\"dataframe\">\n  <thead>\n    <tr style=\"text-align: right;\">\n      <th></th>\n      <th>text</th>\n      <th>description</th>\n      <th>action</th>\n      <th>expected_response</th>\n      <th>positive</th>\n      <th>actor</th>\n      <th>request_type</th>\n      <th>endpoint</th>\n      <th>response_code</th>\n    </tr>\n  </thead>\n  <tbody>\n    <tr>\n      <th>0</th>\n      <td>администратор удаляет товар из каталога.\\nдейс...</td>\n      <td>администратор удаляет товар из каталога.</td>\n      <td>delete-запрос к конечной точке \"/catalog/remov...</td>\n      <td>подтверждение удаления товара из каталога.</td>\n      <td>True</td>\n      <td>администратор</td>\n      <td>delete</td>\n      <td>/catalog/remove</td>\n      <td>200</td>\n    </tr>\n    <tr>\n      <th>1</th>\n      <td>модератор удаляет комментарий под постом.\\nдей...</td>\n      <td>модератор удаляет комментарий под постом.</td>\n      <td>delete-запрос к конечной точке \"/post/comment/...</td>\n      <td>подтверждение удаления комментария.</td>\n      <td>True</td>\n      <td>модератор</td>\n      <td>delete</td>\n      <td>/post/comment/remove</td>\n      <td>200</td>\n    </tr>\n    <tr>\n      <th>2</th>\n      <td>менеджер удаляет клиента из базы данных.\\nдейс...</td>\n      <td>менеджер удаляет клиента из базы данных.</td>\n      <td>delete-запрос к конечной точке \"/database/cust...</td>\n      <td>подтверждение удаления клиента из базы данных.</td>\n      <td>True</td>\n      <td>менеджер</td>\n      <td>delete</td>\n      <td>/database/customer/remove</td>\n      <td>200</td>\n    </tr>\n    <tr>\n      <th>3</th>\n      <td>редактор удаляет статью из журнала.\\nдействие:...</td>\n      <td>редактор удаляет статью из журнала.</td>\n      <td>delete-запрос к конечной точке \"/magazine/arti...</td>\n      <td>подтверждение удаления статьи из журнала.</td>\n      <td>True</td>\n      <td>редактор</td>\n      <td>delete</td>\n      <td>/magazine/article/remove</td>\n      <td>200</td>\n    </tr>\n    <tr>\n      <th>4</th>\n      <td>модератор удаляет изображение из галереи.\\nдей...</td>\n      <td>модератор удаляет изображение из галереи.</td>\n      <td>delete-запрос к конечной точке \"/gallery/image...</td>\n      <td>подтверждение удаления изображения из галереи.</td>\n      <td>True</td>\n      <td>модератор</td>\n      <td>delete</td>\n      <td>/gallery/image/remove</td>\n      <td>200</td>\n    </tr>\n  </tbody>\n</table>\n</div>"
     },
     "execution_count": 72,
     "metadata": {},
     "output_type": "execute_result"
    }
   ],
   "source": [
    "data.head()"
   ],
   "metadata": {
    "collapsed": false
   }
  },
  {
   "cell_type": "code",
   "execution_count": 73,
   "outputs": [
    {
     "name": "stdout",
     "output_type": "stream",
     "text": [
      "<class 'pandas.core.frame.DataFrame'>\n",
      "RangeIndex: 400 entries, 0 to 399\n",
      "Data columns (total 9 columns):\n",
      " #   Column             Non-Null Count  Dtype \n",
      "---  ------             --------------  ----- \n",
      " 0   text               400 non-null    object\n",
      " 1   description        400 non-null    object\n",
      " 2   action             400 non-null    object\n",
      " 3   expected_response  400 non-null    object\n",
      " 4   positive           400 non-null    object\n",
      " 5   actor              400 non-null    object\n",
      " 6   request_type       400 non-null    object\n",
      " 7   endpoint           400 non-null    object\n",
      " 8   response_code      400 non-null    object\n",
      "dtypes: object(9)\n",
      "memory usage: 28.2+ KB\n"
     ]
    }
   ],
   "source": [
    "data.info()"
   ],
   "metadata": {
    "collapsed": false
   }
  },
  {
   "cell_type": "code",
   "execution_count": 74,
   "outputs": [
    {
     "data": {
      "text/plain": "                                                     text  \\\ncount                                                 400   \nunique                                                387   \ntop      дизайнер пытается удалить файл, который был у...   \nfreq                                                    2   \n\n                                              description  \\\ncount                                                 400   \nunique                                                380   \ntop     покупатель удаляет товар из корзины перед офор...   \nfreq                                                    2   \n\n                                                   action  \\\ncount                                                 400   \nunique                                                337   \ntop     get-запрос на эндпоинт \"/realtor/properties/999\".   \nfreq                                                    4   \n\n                        expected_response positive          actor  \\\ncount                                 400      400            400   \nunique                                364        2             59   \ntop     код ошибки 404 - товар не найден.     True  администратор   \nfreq                                    3      200             44   \n\n       request_type           endpoint response_code  \ncount           400                400           400  \nunique            4                272            20  \ntop          delete  /cart/item/remove           200  \nfreq            100                 10           200  ",
      "text/html": "<div>\n<style scoped>\n    .dataframe tbody tr th:only-of-type {\n        vertical-align: middle;\n    }\n\n    .dataframe tbody tr th {\n        vertical-align: top;\n    }\n\n    .dataframe thead th {\n        text-align: right;\n    }\n</style>\n<table border=\"1\" class=\"dataframe\">\n  <thead>\n    <tr style=\"text-align: right;\">\n      <th></th>\n      <th>text</th>\n      <th>description</th>\n      <th>action</th>\n      <th>expected_response</th>\n      <th>positive</th>\n      <th>actor</th>\n      <th>request_type</th>\n      <th>endpoint</th>\n      <th>response_code</th>\n    </tr>\n  </thead>\n  <tbody>\n    <tr>\n      <th>count</th>\n      <td>400</td>\n      <td>400</td>\n      <td>400</td>\n      <td>400</td>\n      <td>400</td>\n      <td>400</td>\n      <td>400</td>\n      <td>400</td>\n      <td>400</td>\n    </tr>\n    <tr>\n      <th>unique</th>\n      <td>387</td>\n      <td>380</td>\n      <td>337</td>\n      <td>364</td>\n      <td>2</td>\n      <td>59</td>\n      <td>4</td>\n      <td>272</td>\n      <td>20</td>\n    </tr>\n    <tr>\n      <th>top</th>\n      <td>дизайнер пытается удалить файл, который был у...</td>\n      <td>покупатель удаляет товар из корзины перед офор...</td>\n      <td>get-запрос на эндпоинт \"/realtor/properties/999\".</td>\n      <td>код ошибки 404 - товар не найден.</td>\n      <td>True</td>\n      <td>администратор</td>\n      <td>delete</td>\n      <td>/cart/item/remove</td>\n      <td>200</td>\n    </tr>\n    <tr>\n      <th>freq</th>\n      <td>2</td>\n      <td>2</td>\n      <td>4</td>\n      <td>3</td>\n      <td>200</td>\n      <td>44</td>\n      <td>100</td>\n      <td>10</td>\n      <td>200</td>\n    </tr>\n  </tbody>\n</table>\n</div>"
     },
     "execution_count": 74,
     "metadata": {},
     "output_type": "execute_result"
    }
   ],
   "source": [
    "data.describe()"
   ],
   "metadata": {
    "collapsed": false
   }
  },
  {
   "cell_type": "code",
   "execution_count": 75,
   "outputs": [],
   "source": [
    "data.to_csv(\"synthetic_testcases.csv\", sep=';')\n",
    "data.to_excel(\"synthetic_testcases.xlsx\")"
   ],
   "metadata": {
    "collapsed": false
   }
  },
  {
   "cell_type": "code",
   "execution_count": 76,
   "outputs": [
    {
     "data": {
      "text/plain": "text                  продавец пытается изменить цену товара на \"na...\ndescription           продавец пытается изменить цену товара на \"nan\".\naction               put-запрос на эндпоинт \"/seller/products/{prod...\nexpected_response        код ошибки 400 - неверный формат цены товара.\npositive                                                         False\nactor                                                         продавец\nrequest_type                                                       put\nendpoint                           /seller/products/{product_id}/price\nresponse_code                                                      400\nName: 383, dtype: object"
     },
     "execution_count": 76,
     "metadata": {},
     "output_type": "execute_result"
    }
   ],
   "source": [
    "data.loc[383]"
   ],
   "metadata": {
    "collapsed": false
   }
  },
  {
   "cell_type": "markdown",
   "source": [
    "### Label for Named Entity Recognition (NER)"
   ],
   "metadata": {
    "collapsed": false
   }
  },
  {
   "cell_type": "code",
   "execution_count": 77,
   "outputs": [],
   "source": [
    "ner_column_names = ['testcase_id', 'word_num', 'word', 'label']\n",
    "labels = ['actor', 'request_type', 'endpoint', 'response_code']"
   ],
   "metadata": {
    "collapsed": false
   }
  },
  {
   "cell_type": "code",
   "execution_count": 78,
   "outputs": [],
   "source": [
    "def split_sentence(s):\n",
    "    pattern = r'\"(?:\\\\\"|[^\"])*\"|\\b\\w+\\b|[\".,!?:-]'\n",
    "    return re.findall(pattern, s)"
   ],
   "metadata": {
    "collapsed": false
   }
  },
  {
   "cell_type": "code",
   "execution_count": 79,
   "outputs": [],
   "source": [
    "def split_quotes(word_seq):\n",
    "    for i in range(len(word_seq)):\n",
    "        w = word_seq[i]\n",
    "        if len(w) > 1 and '\\\"' in w:\n",
    "            w = w[1:-1]\n",
    "            word_seq[i] = '\\\"'\n",
    "            word_seq.insert(i + 1, w)\n",
    "            word_seq.insert(i + 2, '\\\"')\n",
    "        i += 2\n",
    "    return word_seq"
   ],
   "metadata": {
    "collapsed": false
   }
  },
  {
   "cell_type": "code",
   "execution_count": 80,
   "outputs": [],
   "source": [
    "def get_sequence_from_text(text):\n",
    "    seq = split_sentence(text)\n",
    "    seq = split_quotes(seq)\n",
    "    return seq"
   ],
   "metadata": {
    "collapsed": false
   }
  },
  {
   "cell_type": "code",
   "execution_count": 81,
   "outputs": [],
   "source": [
    "def get_sequence_df(index, row):\n",
    "    seq = get_sequence_from_text(row['text'])\n",
    "    seq_df = pd.DataFrame(columns=ner_column_names)\n",
    "    w_df = pd.DataFrame([['', '', '', '']], columns=ner_column_names)\n",
    "    for i in range(len(seq)):\n",
    "        w = seq[i]\n",
    "        label = 'O'\n",
    "        for lbl in labels:\n",
    "            lbl_split = row[lbl].split()\n",
    "            if len(w) > 0 and w in lbl_split:\n",
    "                if w == lbl_split[0]:\n",
    "                    label = 'B-' + lbl\n",
    "                elif w_df['label'][0] == 'B-' + lbl or w_df['label'][0] == 'I-' + lbl:\n",
    "                    label = 'I-' + lbl\n",
    "        w_df = pd.DataFrame([[index, i, w, label]], columns=ner_column_names)\n",
    "        seq_df = pd.concat([seq_df, w_df], ignore_index=True)\n",
    "    seq_df['label'] = seq_df['label'].str.upper()\n",
    "    return seq_df"
   ],
   "metadata": {
    "collapsed": false
   }
  },
  {
   "cell_type": "code",
   "execution_count": 82,
   "outputs": [],
   "source": [
    "ner_df = pd.DataFrame(columns=ner_column_names)\n",
    "for index, row in data.iterrows():\n",
    "    use_case_df = get_sequence_df(index, row)\n",
    "    ner_df = pd.concat([ner_df, use_case_df], ignore_index=True)"
   ],
   "metadata": {
    "collapsed": false
   }
  },
  {
   "cell_type": "code",
   "execution_count": 83,
   "outputs": [
    {
     "data": {
      "text/plain": "     testcase_id word_num                   word            label\n1776          55        0               продавец          B-ACTOR\n1777          55        1               пытается                O\n1778          55        2                удалить                O\n1779          55        3                  товар                O\n1780          55        4                     из                O\n1781          55        5               магазина                O\n1782          55        6                другого                O\n1783          55        7               продавца                O\n1784          55        8                      .                O\n1785          55        9               действие                O\n1786          55       10                      :                O\n1787          55       11                 delete   B-REQUEST_TYPE\n1788          55       12                      -                O\n1789          55       13                 запрос                O\n1790          55       14                      к                O\n1791          55       15               конечной                O\n1792          55       16                  точке                O\n1793          55       17                      \"                O\n1794          55       18  /store/product/remove       B-ENDPOINT\n1795          55       19                      \"                O\n1796          55       20                      с                O\n1797          55       21           недопустимым                O\n1798          55       22              seller_id                O\n1799          55       23                      .                O\n1800          55       24              ожидаемый                O\n1801          55       25                  ответ                O\n1802          55       26                      :                O\n1803          55       27                    код                O\n1804          55       28                 ошибки                O\n1805          55       29                    403  B-RESPONSE_CODE\n1806          55       30                      -                O\n1807          55       31                    нет                O\n1808          55       32                доступа                O\n1809          55       33                      к                O\n1810          55       34               удалению                O\n1811          55       35                 товара                O\n1812          55       36                другого                O\n1813          55       37               продавца                O\n1814          55       38                      .                O",
      "text/html": "<div>\n<style scoped>\n    .dataframe tbody tr th:only-of-type {\n        vertical-align: middle;\n    }\n\n    .dataframe tbody tr th {\n        vertical-align: top;\n    }\n\n    .dataframe thead th {\n        text-align: right;\n    }\n</style>\n<table border=\"1\" class=\"dataframe\">\n  <thead>\n    <tr style=\"text-align: right;\">\n      <th></th>\n      <th>testcase_id</th>\n      <th>word_num</th>\n      <th>word</th>\n      <th>label</th>\n    </tr>\n  </thead>\n  <tbody>\n    <tr>\n      <th>1776</th>\n      <td>55</td>\n      <td>0</td>\n      <td>продавец</td>\n      <td>B-ACTOR</td>\n    </tr>\n    <tr>\n      <th>1777</th>\n      <td>55</td>\n      <td>1</td>\n      <td>пытается</td>\n      <td>O</td>\n    </tr>\n    <tr>\n      <th>1778</th>\n      <td>55</td>\n      <td>2</td>\n      <td>удалить</td>\n      <td>O</td>\n    </tr>\n    <tr>\n      <th>1779</th>\n      <td>55</td>\n      <td>3</td>\n      <td>товар</td>\n      <td>O</td>\n    </tr>\n    <tr>\n      <th>1780</th>\n      <td>55</td>\n      <td>4</td>\n      <td>из</td>\n      <td>O</td>\n    </tr>\n    <tr>\n      <th>1781</th>\n      <td>55</td>\n      <td>5</td>\n      <td>магазина</td>\n      <td>O</td>\n    </tr>\n    <tr>\n      <th>1782</th>\n      <td>55</td>\n      <td>6</td>\n      <td>другого</td>\n      <td>O</td>\n    </tr>\n    <tr>\n      <th>1783</th>\n      <td>55</td>\n      <td>7</td>\n      <td>продавца</td>\n      <td>O</td>\n    </tr>\n    <tr>\n      <th>1784</th>\n      <td>55</td>\n      <td>8</td>\n      <td>.</td>\n      <td>O</td>\n    </tr>\n    <tr>\n      <th>1785</th>\n      <td>55</td>\n      <td>9</td>\n      <td>действие</td>\n      <td>O</td>\n    </tr>\n    <tr>\n      <th>1786</th>\n      <td>55</td>\n      <td>10</td>\n      <td>:</td>\n      <td>O</td>\n    </tr>\n    <tr>\n      <th>1787</th>\n      <td>55</td>\n      <td>11</td>\n      <td>delete</td>\n      <td>B-REQUEST_TYPE</td>\n    </tr>\n    <tr>\n      <th>1788</th>\n      <td>55</td>\n      <td>12</td>\n      <td>-</td>\n      <td>O</td>\n    </tr>\n    <tr>\n      <th>1789</th>\n      <td>55</td>\n      <td>13</td>\n      <td>запрос</td>\n      <td>O</td>\n    </tr>\n    <tr>\n      <th>1790</th>\n      <td>55</td>\n      <td>14</td>\n      <td>к</td>\n      <td>O</td>\n    </tr>\n    <tr>\n      <th>1791</th>\n      <td>55</td>\n      <td>15</td>\n      <td>конечной</td>\n      <td>O</td>\n    </tr>\n    <tr>\n      <th>1792</th>\n      <td>55</td>\n      <td>16</td>\n      <td>точке</td>\n      <td>O</td>\n    </tr>\n    <tr>\n      <th>1793</th>\n      <td>55</td>\n      <td>17</td>\n      <td>\"</td>\n      <td>O</td>\n    </tr>\n    <tr>\n      <th>1794</th>\n      <td>55</td>\n      <td>18</td>\n      <td>/store/product/remove</td>\n      <td>B-ENDPOINT</td>\n    </tr>\n    <tr>\n      <th>1795</th>\n      <td>55</td>\n      <td>19</td>\n      <td>\"</td>\n      <td>O</td>\n    </tr>\n    <tr>\n      <th>1796</th>\n      <td>55</td>\n      <td>20</td>\n      <td>с</td>\n      <td>O</td>\n    </tr>\n    <tr>\n      <th>1797</th>\n      <td>55</td>\n      <td>21</td>\n      <td>недопустимым</td>\n      <td>O</td>\n    </tr>\n    <tr>\n      <th>1798</th>\n      <td>55</td>\n      <td>22</td>\n      <td>seller_id</td>\n      <td>O</td>\n    </tr>\n    <tr>\n      <th>1799</th>\n      <td>55</td>\n      <td>23</td>\n      <td>.</td>\n      <td>O</td>\n    </tr>\n    <tr>\n      <th>1800</th>\n      <td>55</td>\n      <td>24</td>\n      <td>ожидаемый</td>\n      <td>O</td>\n    </tr>\n    <tr>\n      <th>1801</th>\n      <td>55</td>\n      <td>25</td>\n      <td>ответ</td>\n      <td>O</td>\n    </tr>\n    <tr>\n      <th>1802</th>\n      <td>55</td>\n      <td>26</td>\n      <td>:</td>\n      <td>O</td>\n    </tr>\n    <tr>\n      <th>1803</th>\n      <td>55</td>\n      <td>27</td>\n      <td>код</td>\n      <td>O</td>\n    </tr>\n    <tr>\n      <th>1804</th>\n      <td>55</td>\n      <td>28</td>\n      <td>ошибки</td>\n      <td>O</td>\n    </tr>\n    <tr>\n      <th>1805</th>\n      <td>55</td>\n      <td>29</td>\n      <td>403</td>\n      <td>B-RESPONSE_CODE</td>\n    </tr>\n    <tr>\n      <th>1806</th>\n      <td>55</td>\n      <td>30</td>\n      <td>-</td>\n      <td>O</td>\n    </tr>\n    <tr>\n      <th>1807</th>\n      <td>55</td>\n      <td>31</td>\n      <td>нет</td>\n      <td>O</td>\n    </tr>\n    <tr>\n      <th>1808</th>\n      <td>55</td>\n      <td>32</td>\n      <td>доступа</td>\n      <td>O</td>\n    </tr>\n    <tr>\n      <th>1809</th>\n      <td>55</td>\n      <td>33</td>\n      <td>к</td>\n      <td>O</td>\n    </tr>\n    <tr>\n      <th>1810</th>\n      <td>55</td>\n      <td>34</td>\n      <td>удалению</td>\n      <td>O</td>\n    </tr>\n    <tr>\n      <th>1811</th>\n      <td>55</td>\n      <td>35</td>\n      <td>товара</td>\n      <td>O</td>\n    </tr>\n    <tr>\n      <th>1812</th>\n      <td>55</td>\n      <td>36</td>\n      <td>другого</td>\n      <td>O</td>\n    </tr>\n    <tr>\n      <th>1813</th>\n      <td>55</td>\n      <td>37</td>\n      <td>продавца</td>\n      <td>O</td>\n    </tr>\n    <tr>\n      <th>1814</th>\n      <td>55</td>\n      <td>38</td>\n      <td>.</td>\n      <td>O</td>\n    </tr>\n  </tbody>\n</table>\n</div>"
     },
     "execution_count": 83,
     "metadata": {},
     "output_type": "execute_result"
    }
   ],
   "source": [
    "ner_df[ner_df['testcase_id'] == 55]"
   ],
   "metadata": {
    "collapsed": false
   }
  },
  {
   "cell_type": "code",
   "execution_count": 84,
   "outputs": [
    {
     "data": {
      "text/plain": "      testcase_id word_num                                               word  \\\n11886         312        0                                      администратор   \n11887         312        1                                               базы   \n11888         312        2                                             данных   \n11889         312        3                                           изменяет   \n11890         312        4                                                тип   \n11891         312        5                                               поля   \n11892         312        6                                                  в   \n11893         312        7                                            таблице   \n11894         312        8                                                  .   \n11895         312        9                                           действие   \n11896         312       10                                                  :   \n11897         312       11                                                put   \n11898         312       12                                                  -   \n11899         312       13                                             запрос   \n11900         312       14                                                 на   \n11901         312       15                                           эндпоинт   \n11902         312       16                                                  \"   \n11903         312       17  /database/tables/{table_name}/fields/{field_na...   \n11904         312       18                                                  \"   \n11905         312       19                                                  с   \n11906         312       20                                        обновленным   \n11907         312       21                                              типом   \n11908         312       22                                               поля   \n11909         312       23                                                  .   \n11910         312       24                                          ожидаемый   \n11911         312       25                                              ответ   \n11912         312       26                                                  :   \n11913         312       27                                      подтверждение   \n11914         312       28                                          успешного   \n11915         312       29                                         обновления   \n11916         312       30                                               типа   \n11917         312       31                                               поля   \n11918         312       32                                                  в   \n11919         312       33                                            таблице   \n11920         312       34                                               базы   \n11921         312       35                                             данных   \n11922         312       36                                                  .   \n\n                label  \n11886         B-ACTOR  \n11887         I-ACTOR  \n11888         I-ACTOR  \n11889               O  \n11890               O  \n11891               O  \n11892               O  \n11893               O  \n11894               O  \n11895               O  \n11896               O  \n11897  B-REQUEST_TYPE  \n11898               O  \n11899               O  \n11900               O  \n11901               O  \n11902               O  \n11903      B-ENDPOINT  \n11904               O  \n11905               O  \n11906               O  \n11907               O  \n11908               O  \n11909               O  \n11910               O  \n11911               O  \n11912               O  \n11913               O  \n11914               O  \n11915               O  \n11916               O  \n11917               O  \n11918               O  \n11919               O  \n11920               O  \n11921               O  \n11922               O  ",
      "text/html": "<div>\n<style scoped>\n    .dataframe tbody tr th:only-of-type {\n        vertical-align: middle;\n    }\n\n    .dataframe tbody tr th {\n        vertical-align: top;\n    }\n\n    .dataframe thead th {\n        text-align: right;\n    }\n</style>\n<table border=\"1\" class=\"dataframe\">\n  <thead>\n    <tr style=\"text-align: right;\">\n      <th></th>\n      <th>testcase_id</th>\n      <th>word_num</th>\n      <th>word</th>\n      <th>label</th>\n    </tr>\n  </thead>\n  <tbody>\n    <tr>\n      <th>11886</th>\n      <td>312</td>\n      <td>0</td>\n      <td>администратор</td>\n      <td>B-ACTOR</td>\n    </tr>\n    <tr>\n      <th>11887</th>\n      <td>312</td>\n      <td>1</td>\n      <td>базы</td>\n      <td>I-ACTOR</td>\n    </tr>\n    <tr>\n      <th>11888</th>\n      <td>312</td>\n      <td>2</td>\n      <td>данных</td>\n      <td>I-ACTOR</td>\n    </tr>\n    <tr>\n      <th>11889</th>\n      <td>312</td>\n      <td>3</td>\n      <td>изменяет</td>\n      <td>O</td>\n    </tr>\n    <tr>\n      <th>11890</th>\n      <td>312</td>\n      <td>4</td>\n      <td>тип</td>\n      <td>O</td>\n    </tr>\n    <tr>\n      <th>11891</th>\n      <td>312</td>\n      <td>5</td>\n      <td>поля</td>\n      <td>O</td>\n    </tr>\n    <tr>\n      <th>11892</th>\n      <td>312</td>\n      <td>6</td>\n      <td>в</td>\n      <td>O</td>\n    </tr>\n    <tr>\n      <th>11893</th>\n      <td>312</td>\n      <td>7</td>\n      <td>таблице</td>\n      <td>O</td>\n    </tr>\n    <tr>\n      <th>11894</th>\n      <td>312</td>\n      <td>8</td>\n      <td>.</td>\n      <td>O</td>\n    </tr>\n    <tr>\n      <th>11895</th>\n      <td>312</td>\n      <td>9</td>\n      <td>действие</td>\n      <td>O</td>\n    </tr>\n    <tr>\n      <th>11896</th>\n      <td>312</td>\n      <td>10</td>\n      <td>:</td>\n      <td>O</td>\n    </tr>\n    <tr>\n      <th>11897</th>\n      <td>312</td>\n      <td>11</td>\n      <td>put</td>\n      <td>B-REQUEST_TYPE</td>\n    </tr>\n    <tr>\n      <th>11898</th>\n      <td>312</td>\n      <td>12</td>\n      <td>-</td>\n      <td>O</td>\n    </tr>\n    <tr>\n      <th>11899</th>\n      <td>312</td>\n      <td>13</td>\n      <td>запрос</td>\n      <td>O</td>\n    </tr>\n    <tr>\n      <th>11900</th>\n      <td>312</td>\n      <td>14</td>\n      <td>на</td>\n      <td>O</td>\n    </tr>\n    <tr>\n      <th>11901</th>\n      <td>312</td>\n      <td>15</td>\n      <td>эндпоинт</td>\n      <td>O</td>\n    </tr>\n    <tr>\n      <th>11902</th>\n      <td>312</td>\n      <td>16</td>\n      <td>\"</td>\n      <td>O</td>\n    </tr>\n    <tr>\n      <th>11903</th>\n      <td>312</td>\n      <td>17</td>\n      <td>/database/tables/{table_name}/fields/{field_na...</td>\n      <td>B-ENDPOINT</td>\n    </tr>\n    <tr>\n      <th>11904</th>\n      <td>312</td>\n      <td>18</td>\n      <td>\"</td>\n      <td>O</td>\n    </tr>\n    <tr>\n      <th>11905</th>\n      <td>312</td>\n      <td>19</td>\n      <td>с</td>\n      <td>O</td>\n    </tr>\n    <tr>\n      <th>11906</th>\n      <td>312</td>\n      <td>20</td>\n      <td>обновленным</td>\n      <td>O</td>\n    </tr>\n    <tr>\n      <th>11907</th>\n      <td>312</td>\n      <td>21</td>\n      <td>типом</td>\n      <td>O</td>\n    </tr>\n    <tr>\n      <th>11908</th>\n      <td>312</td>\n      <td>22</td>\n      <td>поля</td>\n      <td>O</td>\n    </tr>\n    <tr>\n      <th>11909</th>\n      <td>312</td>\n      <td>23</td>\n      <td>.</td>\n      <td>O</td>\n    </tr>\n    <tr>\n      <th>11910</th>\n      <td>312</td>\n      <td>24</td>\n      <td>ожидаемый</td>\n      <td>O</td>\n    </tr>\n    <tr>\n      <th>11911</th>\n      <td>312</td>\n      <td>25</td>\n      <td>ответ</td>\n      <td>O</td>\n    </tr>\n    <tr>\n      <th>11912</th>\n      <td>312</td>\n      <td>26</td>\n      <td>:</td>\n      <td>O</td>\n    </tr>\n    <tr>\n      <th>11913</th>\n      <td>312</td>\n      <td>27</td>\n      <td>подтверждение</td>\n      <td>O</td>\n    </tr>\n    <tr>\n      <th>11914</th>\n      <td>312</td>\n      <td>28</td>\n      <td>успешного</td>\n      <td>O</td>\n    </tr>\n    <tr>\n      <th>11915</th>\n      <td>312</td>\n      <td>29</td>\n      <td>обновления</td>\n      <td>O</td>\n    </tr>\n    <tr>\n      <th>11916</th>\n      <td>312</td>\n      <td>30</td>\n      <td>типа</td>\n      <td>O</td>\n    </tr>\n    <tr>\n      <th>11917</th>\n      <td>312</td>\n      <td>31</td>\n      <td>поля</td>\n      <td>O</td>\n    </tr>\n    <tr>\n      <th>11918</th>\n      <td>312</td>\n      <td>32</td>\n      <td>в</td>\n      <td>O</td>\n    </tr>\n    <tr>\n      <th>11919</th>\n      <td>312</td>\n      <td>33</td>\n      <td>таблице</td>\n      <td>O</td>\n    </tr>\n    <tr>\n      <th>11920</th>\n      <td>312</td>\n      <td>34</td>\n      <td>базы</td>\n      <td>O</td>\n    </tr>\n    <tr>\n      <th>11921</th>\n      <td>312</td>\n      <td>35</td>\n      <td>данных</td>\n      <td>O</td>\n    </tr>\n    <tr>\n      <th>11922</th>\n      <td>312</td>\n      <td>36</td>\n      <td>.</td>\n      <td>O</td>\n    </tr>\n  </tbody>\n</table>\n</div>"
     },
     "execution_count": 84,
     "metadata": {},
     "output_type": "execute_result"
    }
   ],
   "source": [
    "ner_df[ner_df['testcase_id'] == 312]"
   ],
   "metadata": {
    "collapsed": false
   }
  },
  {
   "cell_type": "code",
   "execution_count": 85,
   "outputs": [
    {
     "data": {
      "text/plain": "        testcase_id  word_num   word  label\ncount         15110     15110  15110  15110\nunique          400        52   1403      6\ntop             380         0      .      O\nfreq             52       400   1201  13642",
      "text/html": "<div>\n<style scoped>\n    .dataframe tbody tr th:only-of-type {\n        vertical-align: middle;\n    }\n\n    .dataframe tbody tr th {\n        vertical-align: top;\n    }\n\n    .dataframe thead th {\n        text-align: right;\n    }\n</style>\n<table border=\"1\" class=\"dataframe\">\n  <thead>\n    <tr style=\"text-align: right;\">\n      <th></th>\n      <th>testcase_id</th>\n      <th>word_num</th>\n      <th>word</th>\n      <th>label</th>\n    </tr>\n  </thead>\n  <tbody>\n    <tr>\n      <th>count</th>\n      <td>15110</td>\n      <td>15110</td>\n      <td>15110</td>\n      <td>15110</td>\n    </tr>\n    <tr>\n      <th>unique</th>\n      <td>400</td>\n      <td>52</td>\n      <td>1403</td>\n      <td>6</td>\n    </tr>\n    <tr>\n      <th>top</th>\n      <td>380</td>\n      <td>0</td>\n      <td>.</td>\n      <td>O</td>\n    </tr>\n    <tr>\n      <th>freq</th>\n      <td>52</td>\n      <td>400</td>\n      <td>1201</td>\n      <td>13642</td>\n    </tr>\n  </tbody>\n</table>\n</div>"
     },
     "execution_count": 85,
     "metadata": {},
     "output_type": "execute_result"
    }
   ],
   "source": [
    "ner_df.describe()"
   ],
   "metadata": {
    "collapsed": false
   }
  },
  {
   "cell_type": "code",
   "execution_count": 86,
   "outputs": [
    {
     "name": "stdout",
     "output_type": "stream",
     "text": [
      "<class 'pandas.core.frame.DataFrame'>\n",
      "RangeIndex: 15110 entries, 0 to 15109\n",
      "Data columns (total 4 columns):\n",
      " #   Column       Non-Null Count  Dtype \n",
      "---  ------       --------------  ----- \n",
      " 0   testcase_id  15110 non-null  object\n",
      " 1   word_num     15110 non-null  object\n",
      " 2   word         15110 non-null  object\n",
      " 3   label        15110 non-null  object\n",
      "dtypes: object(4)\n",
      "memory usage: 472.3+ KB\n"
     ]
    }
   ],
   "source": [
    "ner_df.info()"
   ],
   "metadata": {
    "collapsed": false
   }
  },
  {
   "cell_type": "code",
   "execution_count": 87,
   "outputs": [],
   "source": [
    "ner_df.to_csv(\"ner_labeled.csv\", sep=';')\n",
    "ner_df.to_excel(\"ner_labeled.xlsx\")"
   ],
   "metadata": {
    "collapsed": false
   }
  }
 ],
 "metadata": {
  "kernelspec": {
   "display_name": "Python 3",
   "language": "python",
   "name": "python3"
  },
  "language_info": {
   "codemirror_mode": {
    "name": "ipython",
    "version": 2
   },
   "file_extension": ".py",
   "mimetype": "text/x-python",
   "name": "python",
   "nbconvert_exporter": "python",
   "pygments_lexer": "ipython2",
   "version": "2.7.6"
  }
 },
 "nbformat": 4,
 "nbformat_minor": 0
}
