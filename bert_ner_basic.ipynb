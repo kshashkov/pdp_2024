{
 "cells": [
  {
   "cell_type": "code",
   "execution_count": 70,
   "metadata": {
    "collapsed": true
   },
   "outputs": [],
   "source": [
    "import pandas as pd\n",
    "from sklearn.model_selection import train_test_split\n",
    "from sklearn.metrics import accuracy_score, balanced_accuracy_score, cohen_kappa_score\n",
    "from simpletransformers.ner import NERModel,NERArgs"
   ]
  },
  {
   "cell_type": "markdown",
   "source": [
    "## Load the Data"
   ],
   "metadata": {
    "collapsed": false
   }
  },
  {
   "cell_type": "code",
   "execution_count": 71,
   "outputs": [],
   "source": [
    "path_to_ner_data = 'DATA/SYNTHETIC/ner_labeled.xlsx'\n",
    "data = pd.read_excel(path_to_ner_data, index_col=0, engine = 'openpyxl')"
   ],
   "metadata": {
    "collapsed": false
   }
  },
  {
   "cell_type": "code",
   "execution_count": 72,
   "outputs": [
    {
     "name": "stdout",
     "output_type": "stream",
     "text": [
      "<class 'pandas.core.frame.DataFrame'>\n",
      "Int64Index: 15110 entries, 0 to 15109\n",
      "Data columns (total 4 columns):\n",
      " #   Column       Non-Null Count  Dtype \n",
      "---  ------       --------------  ----- \n",
      " 0   testcase_id  15110 non-null  int64 \n",
      " 1   word_num     15110 non-null  int64 \n",
      " 2   word         15108 non-null  object\n",
      " 3   label        15110 non-null  object\n",
      "dtypes: int64(2), object(2)\n",
      "memory usage: 590.2+ KB\n"
     ]
    }
   ],
   "source": [
    "data.info()"
   ],
   "metadata": {
    "collapsed": false
   }
  },
  {
   "cell_type": "code",
   "execution_count": 73,
   "outputs": [],
   "source": [
    "data.fillna('NaN', inplace=True)"
   ],
   "metadata": {
    "collapsed": false
   }
  },
  {
   "cell_type": "code",
   "execution_count": 74,
   "outputs": [
    {
     "name": "stdout",
     "output_type": "stream",
     "text": [
      "<class 'pandas.core.frame.DataFrame'>\n",
      "Int64Index: 15110 entries, 0 to 15109\n",
      "Data columns (total 4 columns):\n",
      " #   Column       Non-Null Count  Dtype \n",
      "---  ------       --------------  ----- \n",
      " 0   testcase_id  15110 non-null  int64 \n",
      " 1   word_num     15110 non-null  int64 \n",
      " 2   word         15110 non-null  object\n",
      " 3   label        15110 non-null  object\n",
      "dtypes: int64(2), object(2)\n",
      "memory usage: 590.2+ KB\n"
     ]
    }
   ],
   "source": [
    "data.info()"
   ],
   "metadata": {
    "collapsed": false
   }
  },
  {
   "cell_type": "code",
   "execution_count": 75,
   "outputs": [],
   "source": [
    "data = data[data['word'].str.len() > 1]"
   ],
   "metadata": {
    "collapsed": false
   }
  },
  {
   "cell_type": "code",
   "execution_count": 76,
   "outputs": [
    {
     "data": {
      "text/plain": "       testcase_id  word_num                                    word  \\\n15069          398        36                            недопустимые   \n15070          398        37                                значения   \n15071          398        38                              параметров   \n15072          398        39                                 запроса   \n15074          399         0                                менеджер   \n15075          399         1                                 проекта   \n15076          399         2                                пытается   \n15077          399         3                                изменить   \n15078          399         4                                  бюджет   \n15079          399         5                            завершенного   \n15080          399         6                                 проекта   \n15082          399         8                                действие   \n15084          399        10                                     put   \n15086          399        12                                  запрос   \n15087          399        13                                      на   \n15088          399        14                                эндпоинт   \n15090          399        16  /project/{completed_project_id}/budget   \n15093          399        19                                попыткой   \n15094          399        20                                изменить   \n15095          399        21                                  бюджет   \n15097          399        23                               ожидаемый   \n15098          399        24                                   ответ   \n15100          399        26                                     код   \n15101          399        27                                  ошибки   \n15102          399        28                                     403   \n15104          399        30                              невозможно   \n15105          399        31                                изменить   \n15106          399        32                                  бюджет   \n15107          399        33                            завершенного   \n15108          399        34                                 проекта   \n\n                 label  \n15069                O  \n15070                O  \n15071                O  \n15072                O  \n15074          B-ACTOR  \n15075          I-ACTOR  \n15076                O  \n15077                O  \n15078                O  \n15079                O  \n15080                O  \n15082                O  \n15084   B-REQUEST_TYPE  \n15086                O  \n15087                O  \n15088                O  \n15090       B-ENDPOINT  \n15093                O  \n15094                O  \n15095                O  \n15097                O  \n15098                O  \n15100                O  \n15101                O  \n15102  B-RESPONSE_CODE  \n15104                O  \n15105                O  \n15106                O  \n15107                O  \n15108                O  ",
      "text/html": "<div>\n<style scoped>\n    .dataframe tbody tr th:only-of-type {\n        vertical-align: middle;\n    }\n\n    .dataframe tbody tr th {\n        vertical-align: top;\n    }\n\n    .dataframe thead th {\n        text-align: right;\n    }\n</style>\n<table border=\"1\" class=\"dataframe\">\n  <thead>\n    <tr style=\"text-align: right;\">\n      <th></th>\n      <th>testcase_id</th>\n      <th>word_num</th>\n      <th>word</th>\n      <th>label</th>\n    </tr>\n  </thead>\n  <tbody>\n    <tr>\n      <th>15069</th>\n      <td>398</td>\n      <td>36</td>\n      <td>недопустимые</td>\n      <td>O</td>\n    </tr>\n    <tr>\n      <th>15070</th>\n      <td>398</td>\n      <td>37</td>\n      <td>значения</td>\n      <td>O</td>\n    </tr>\n    <tr>\n      <th>15071</th>\n      <td>398</td>\n      <td>38</td>\n      <td>параметров</td>\n      <td>O</td>\n    </tr>\n    <tr>\n      <th>15072</th>\n      <td>398</td>\n      <td>39</td>\n      <td>запроса</td>\n      <td>O</td>\n    </tr>\n    <tr>\n      <th>15074</th>\n      <td>399</td>\n      <td>0</td>\n      <td>менеджер</td>\n      <td>B-ACTOR</td>\n    </tr>\n    <tr>\n      <th>15075</th>\n      <td>399</td>\n      <td>1</td>\n      <td>проекта</td>\n      <td>I-ACTOR</td>\n    </tr>\n    <tr>\n      <th>15076</th>\n      <td>399</td>\n      <td>2</td>\n      <td>пытается</td>\n      <td>O</td>\n    </tr>\n    <tr>\n      <th>15077</th>\n      <td>399</td>\n      <td>3</td>\n      <td>изменить</td>\n      <td>O</td>\n    </tr>\n    <tr>\n      <th>15078</th>\n      <td>399</td>\n      <td>4</td>\n      <td>бюджет</td>\n      <td>O</td>\n    </tr>\n    <tr>\n      <th>15079</th>\n      <td>399</td>\n      <td>5</td>\n      <td>завершенного</td>\n      <td>O</td>\n    </tr>\n    <tr>\n      <th>15080</th>\n      <td>399</td>\n      <td>6</td>\n      <td>проекта</td>\n      <td>O</td>\n    </tr>\n    <tr>\n      <th>15082</th>\n      <td>399</td>\n      <td>8</td>\n      <td>действие</td>\n      <td>O</td>\n    </tr>\n    <tr>\n      <th>15084</th>\n      <td>399</td>\n      <td>10</td>\n      <td>put</td>\n      <td>B-REQUEST_TYPE</td>\n    </tr>\n    <tr>\n      <th>15086</th>\n      <td>399</td>\n      <td>12</td>\n      <td>запрос</td>\n      <td>O</td>\n    </tr>\n    <tr>\n      <th>15087</th>\n      <td>399</td>\n      <td>13</td>\n      <td>на</td>\n      <td>O</td>\n    </tr>\n    <tr>\n      <th>15088</th>\n      <td>399</td>\n      <td>14</td>\n      <td>эндпоинт</td>\n      <td>O</td>\n    </tr>\n    <tr>\n      <th>15090</th>\n      <td>399</td>\n      <td>16</td>\n      <td>/project/{completed_project_id}/budget</td>\n      <td>B-ENDPOINT</td>\n    </tr>\n    <tr>\n      <th>15093</th>\n      <td>399</td>\n      <td>19</td>\n      <td>попыткой</td>\n      <td>O</td>\n    </tr>\n    <tr>\n      <th>15094</th>\n      <td>399</td>\n      <td>20</td>\n      <td>изменить</td>\n      <td>O</td>\n    </tr>\n    <tr>\n      <th>15095</th>\n      <td>399</td>\n      <td>21</td>\n      <td>бюджет</td>\n      <td>O</td>\n    </tr>\n    <tr>\n      <th>15097</th>\n      <td>399</td>\n      <td>23</td>\n      <td>ожидаемый</td>\n      <td>O</td>\n    </tr>\n    <tr>\n      <th>15098</th>\n      <td>399</td>\n      <td>24</td>\n      <td>ответ</td>\n      <td>O</td>\n    </tr>\n    <tr>\n      <th>15100</th>\n      <td>399</td>\n      <td>26</td>\n      <td>код</td>\n      <td>O</td>\n    </tr>\n    <tr>\n      <th>15101</th>\n      <td>399</td>\n      <td>27</td>\n      <td>ошибки</td>\n      <td>O</td>\n    </tr>\n    <tr>\n      <th>15102</th>\n      <td>399</td>\n      <td>28</td>\n      <td>403</td>\n      <td>B-RESPONSE_CODE</td>\n    </tr>\n    <tr>\n      <th>15104</th>\n      <td>399</td>\n      <td>30</td>\n      <td>невозможно</td>\n      <td>O</td>\n    </tr>\n    <tr>\n      <th>15105</th>\n      <td>399</td>\n      <td>31</td>\n      <td>изменить</td>\n      <td>O</td>\n    </tr>\n    <tr>\n      <th>15106</th>\n      <td>399</td>\n      <td>32</td>\n      <td>бюджет</td>\n      <td>O</td>\n    </tr>\n    <tr>\n      <th>15107</th>\n      <td>399</td>\n      <td>33</td>\n      <td>завершенного</td>\n      <td>O</td>\n    </tr>\n    <tr>\n      <th>15108</th>\n      <td>399</td>\n      <td>34</td>\n      <td>проекта</td>\n      <td>O</td>\n    </tr>\n  </tbody>\n</table>\n</div>"
     },
     "execution_count": 76,
     "metadata": {},
     "output_type": "execute_result"
    }
   ],
   "source": [
    "data.tail(30)"
   ],
   "metadata": {
    "collapsed": false
   }
  },
  {
   "cell_type": "code",
   "execution_count": 77,
   "outputs": [],
   "source": [
    "X = data[[\"testcase_id\",\"word\"]]\n",
    "Y = data[\"label\"]"
   ],
   "metadata": {
    "collapsed": false
   }
  },
  {
   "cell_type": "code",
   "execution_count": 78,
   "outputs": [],
   "source": [
    "x_train, x_test, y_train, y_test = train_test_split(X,Y, test_size=0.2)"
   ],
   "metadata": {
    "collapsed": false
   }
  },
  {
   "cell_type": "code",
   "execution_count": 79,
   "outputs": [],
   "source": [
    "train_data = pd.DataFrame({\"sentence_id\":x_train[\"testcase_id\"],\"words\":x_train[\"word\"],\"labels\":y_train})\n",
    "test_data = pd.DataFrame({\"sentence_id\":x_test[\"testcase_id\"],\"words\":x_test[\"word\"],\"labels\":y_test})"
   ],
   "metadata": {
    "collapsed": false
   }
  },
  {
   "cell_type": "code",
   "execution_count": 80,
   "outputs": [
    {
     "data": {
      "text/plain": "       sentence_id      words labels\n8569           220      ответ      O\n5568           146        bad      O\n2195            65     ошибки      O\n270              9  сообщение      O\n5220           139      новый      O\n...            ...        ...    ...\n9270           240   получает      O\n6893           176       сбоя      O\n12671          335     запрос      O\n10955          285      новом      O\n1193            38   доставки      O\n\n[2126 rows x 3 columns]",
      "text/html": "<div>\n<style scoped>\n    .dataframe tbody tr th:only-of-type {\n        vertical-align: middle;\n    }\n\n    .dataframe tbody tr th {\n        vertical-align: top;\n    }\n\n    .dataframe thead th {\n        text-align: right;\n    }\n</style>\n<table border=\"1\" class=\"dataframe\">\n  <thead>\n    <tr style=\"text-align: right;\">\n      <th></th>\n      <th>sentence_id</th>\n      <th>words</th>\n      <th>labels</th>\n    </tr>\n  </thead>\n  <tbody>\n    <tr>\n      <th>8569</th>\n      <td>220</td>\n      <td>ответ</td>\n      <td>O</td>\n    </tr>\n    <tr>\n      <th>5568</th>\n      <td>146</td>\n      <td>bad</td>\n      <td>O</td>\n    </tr>\n    <tr>\n      <th>2195</th>\n      <td>65</td>\n      <td>ошибки</td>\n      <td>O</td>\n    </tr>\n    <tr>\n      <th>270</th>\n      <td>9</td>\n      <td>сообщение</td>\n      <td>O</td>\n    </tr>\n    <tr>\n      <th>5220</th>\n      <td>139</td>\n      <td>новый</td>\n      <td>O</td>\n    </tr>\n    <tr>\n      <th>...</th>\n      <td>...</td>\n      <td>...</td>\n      <td>...</td>\n    </tr>\n    <tr>\n      <th>9270</th>\n      <td>240</td>\n      <td>получает</td>\n      <td>O</td>\n    </tr>\n    <tr>\n      <th>6893</th>\n      <td>176</td>\n      <td>сбоя</td>\n      <td>O</td>\n    </tr>\n    <tr>\n      <th>12671</th>\n      <td>335</td>\n      <td>запрос</td>\n      <td>O</td>\n    </tr>\n    <tr>\n      <th>10955</th>\n      <td>285</td>\n      <td>новом</td>\n      <td>O</td>\n    </tr>\n    <tr>\n      <th>1193</th>\n      <td>38</td>\n      <td>доставки</td>\n      <td>O</td>\n    </tr>\n  </tbody>\n</table>\n<p>2126 rows × 3 columns</p>\n</div>"
     },
     "execution_count": 80,
     "metadata": {},
     "output_type": "execute_result"
    }
   ],
   "source": [
    "test_data"
   ],
   "metadata": {
    "collapsed": false
   }
  },
  {
   "cell_type": "code",
   "execution_count": 81,
   "outputs": [
    {
     "data": {
      "text/plain": "['B-ACTOR', 'O', 'B-REQUEST_TYPE', 'B-ENDPOINT', 'B-RESPONSE_CODE', 'I-ACTOR']"
     },
     "execution_count": 81,
     "metadata": {},
     "output_type": "execute_result"
    }
   ],
   "source": [
    "labels = data[\"label\"].unique().tolist()\n",
    "labels"
   ],
   "metadata": {
    "collapsed": false
   }
  },
  {
   "cell_type": "code",
   "execution_count": 82,
   "outputs": [
    {
     "data": {
      "text/plain": "O                  9165\nB-REQUEST_TYPE      400\nB-ENDPOINT          400\nB-ACTOR             387\nB-RESPONSE_CODE     200\nI-ACTOR              77\nName: label, dtype: int64"
     },
     "execution_count": 82,
     "metadata": {},
     "output_type": "execute_result"
    }
   ],
   "source": [
    "data[\"label\"].value_counts()"
   ],
   "metadata": {
    "collapsed": false
   }
  },
  {
   "cell_type": "code",
   "execution_count": 83,
   "outputs": [
    {
     "data": {
      "text/plain": "O                  463\nB-REQUEST_TYPE     400\nB-ENDPOINT         400\nB-ACTOR            387\nB-RESPONSE_CODE    200\nI-ACTOR             77\nName: label, dtype: int64"
     },
     "execution_count": 83,
     "metadata": {},
     "output_type": "execute_result"
    }
   ],
   "source": [
    "# Define conditions\n",
    "condition1 = data['label'] != 'O'\n",
    "condition2 = (data.index % 20) == 0\n",
    "data = data[condition1 | condition2]\n",
    "data['label'].value_counts()"
   ],
   "metadata": {
    "collapsed": false
   }
  },
  {
   "cell_type": "markdown",
   "source": [
    "## Build the Model"
   ],
   "metadata": {
    "collapsed": false
   }
  },
  {
   "cell_type": "code",
   "execution_count": 84,
   "outputs": [],
   "source": [
    "args = NERArgs()\n",
    "args.num_train_epochs = 5\n",
    "args.learning_rate = 1e-4\n",
    "args.overwrite_output_dir = True\n",
    "args.train_batch_size = 32\n",
    "args.eval_batch_size = 32"
   ],
   "metadata": {
    "collapsed": false
   }
  },
  {
   "cell_type": "code",
   "execution_count": 85,
   "outputs": [
    {
     "name": "stderr",
     "output_type": "stream",
     "text": [
      "Some weights of BertForTokenClassification were not initialized from the model checkpoint at DeepPavlov/rubert-base-cased and are newly initialized: ['classifier.bias', 'classifier.weight']\n",
      "You should probably TRAIN this model on a down-stream task to be able to use it for predictions and inference.\n"
     ]
    }
   ],
   "source": [
    "model = NERModel('bert', 'DeepPavlov/rubert-base-cased', labels=labels, args=args, use_cuda=False)"
   ],
   "metadata": {
    "collapsed": false
   }
  },
  {
   "cell_type": "code",
   "execution_count": 86,
   "outputs": [
    {
     "data": {
      "text/plain": "  0%|          | 0/1 [00:00<?, ?it/s]",
      "application/vnd.jupyter.widget-view+json": {
       "version_major": 2,
       "version_minor": 0,
       "model_id": "075665f5e939419c82671575f3da0ece"
      }
     },
     "metadata": {},
     "output_type": "display_data"
    },
    {
     "name": "stderr",
     "output_type": "stream",
     "text": [
      "2024-04-24 20:34:25.739415: I tensorflow/core/platform/cpu_feature_guard.cc:193] This TensorFlow binary is optimized with oneAPI Deep Neural Network Library (oneDNN) to use the following CPU instructions in performance-critical operations:  SSE4.1 SSE4.2 AVX AVX2 FMA\n",
      "To enable them in other operations, rebuild TensorFlow with the appropriate compiler flags.\n"
     ]
    },
    {
     "data": {
      "text/plain": "Epoch:   0%|          | 0/5 [00:00<?, ?it/s]",
      "application/vnd.jupyter.widget-view+json": {
       "version_major": 2,
       "version_minor": 0,
       "model_id": "bcd745ebf09441109a1f72054d82175e"
      }
     },
     "metadata": {},
     "output_type": "display_data"
    },
    {
     "data": {
      "text/plain": "Running Epoch 1 of 5:   0%|          | 0/13 [00:00<?, ?it/s]",
      "application/vnd.jupyter.widget-view+json": {
       "version_major": 2,
       "version_minor": 0,
       "model_id": "b40e10f3740b490c9ff392f2cc0a448f"
      }
     },
     "metadata": {},
     "output_type": "display_data"
    },
    {
     "data": {
      "text/plain": "Running Epoch 2 of 5:   0%|          | 0/13 [00:00<?, ?it/s]",
      "application/vnd.jupyter.widget-view+json": {
       "version_major": 2,
       "version_minor": 0,
       "model_id": "8bcbff4d9ee14ed38319c9577b2d819d"
      }
     },
     "metadata": {},
     "output_type": "display_data"
    },
    {
     "data": {
      "text/plain": "Running Epoch 3 of 5:   0%|          | 0/13 [00:00<?, ?it/s]",
      "application/vnd.jupyter.widget-view+json": {
       "version_major": 2,
       "version_minor": 0,
       "model_id": "f2cb31e8fb9845b6a6a9d380d8395315"
      }
     },
     "metadata": {},
     "output_type": "display_data"
    },
    {
     "data": {
      "text/plain": "Running Epoch 4 of 5:   0%|          | 0/13 [00:00<?, ?it/s]",
      "application/vnd.jupyter.widget-view+json": {
       "version_major": 2,
       "version_minor": 0,
       "model_id": "f35c974f1036410b8f3b0ee43695814e"
      }
     },
     "metadata": {},
     "output_type": "display_data"
    },
    {
     "data": {
      "text/plain": "Running Epoch 5 of 5:   0%|          | 0/13 [00:00<?, ?it/s]",
      "application/vnd.jupyter.widget-view+json": {
       "version_major": 2,
       "version_minor": 0,
       "model_id": "1268d0dbffc14dffa7f5a1a58ed8d042"
      }
     },
     "metadata": {},
     "output_type": "display_data"
    },
    {
     "data": {
      "text/plain": "(65, 0.2063508851023821)"
     },
     "execution_count": 86,
     "metadata": {},
     "output_type": "execute_result"
    }
   ],
   "source": [
    "model.train_model(train_data, eval_data=test_data, acc=balanced_accuracy_score)"
   ],
   "metadata": {
    "collapsed": false
   }
  },
  {
   "cell_type": "code",
   "execution_count": 87,
   "outputs": [
    {
     "data": {
      "text/plain": "  0%|          | 0/1 [00:00<?, ?it/s]",
      "application/vnd.jupyter.widget-view+json": {
       "version_major": 2,
       "version_minor": 0,
       "model_id": "4d2298c3b21e41e188e63ea5465a30bc"
      }
     },
     "metadata": {},
     "output_type": "display_data"
    },
    {
     "name": "stderr",
     "output_type": "stream",
     "text": [
      "2024-04-24 20:44:19.338849: I tensorflow/core/platform/cpu_feature_guard.cc:193] This TensorFlow binary is optimized with oneAPI Deep Neural Network Library (oneDNN) to use the following CPU instructions in performance-critical operations:  SSE4.1 SSE4.2 AVX AVX2 FMA\n",
      "To enable them in other operations, rebuild TensorFlow with the appropriate compiler flags.\n"
     ]
    },
    {
     "data": {
      "text/plain": "Running Evaluation:   0%|          | 0/13 [00:00<?, ?it/s]",
      "application/vnd.jupyter.widget-view+json": {
       "version_major": 2,
       "version_minor": 0,
       "model_id": "50185cc4ea8e466b8c54bf7cfc8fa920"
      }
     },
     "metadata": {},
     "output_type": "display_data"
    }
   ],
   "source": [
    "result, model_outputs, preds_list = model.eval_model(test_data)"
   ],
   "metadata": {
    "collapsed": false
   }
  },
  {
   "cell_type": "code",
   "execution_count": 88,
   "outputs": [
    {
     "data": {
      "text/plain": "{'eval_loss': 0.04416786861391021,\n 'precision': 0.9927007299270073,\n 'recall': 0.951048951048951,\n 'f1_score': 0.9714285714285715}"
     },
     "execution_count": 88,
     "metadata": {},
     "output_type": "execute_result"
    }
   ],
   "source": [
    "result"
   ],
   "metadata": {
    "collapsed": false
   }
  },
  {
   "cell_type": "markdown",
   "source": [
    "## Predictions"
   ],
   "metadata": {
    "collapsed": false
   }
  },
  {
   "cell_type": "code",
   "execution_count": 89,
   "outputs": [
    {
     "data": {
      "text/plain": "                                                text  \\\n0  администратор удаляет товар из каталога.\\nдейс...   \n1  модератор удаляет комментарий под постом.\\nдей...   \n2  менеджер удаляет клиента из базы данных.\\nдейс...   \n3  редактор удаляет статью из журнала.\\nдействие:...   \n4  модератор удаляет изображение из галереи.\\nдей...   \n\n                                 description  \\\n0   администратор удаляет товар из каталога.   \n1  модератор удаляет комментарий под постом.   \n2   менеджер удаляет клиента из базы данных.   \n3        редактор удаляет статью из журнала.   \n4  модератор удаляет изображение из галереи.   \n\n                                              action  \\\n0  delete-запрос к конечной точке \"/catalog/remov...   \n1  delete-запрос к конечной точке \"/post/comment/...   \n2  delete-запрос к конечной точке \"/database/cust...   \n3  delete-запрос к конечной точке \"/magazine/arti...   \n4  delete-запрос к конечной точке \"/gallery/image...   \n\n                                expected_response  positive          actor  \\\n0      подтверждение удаления товара из каталога.      True  администратор   \n1             подтверждение удаления комментария.      True      модератор   \n2  подтверждение удаления клиента из базы данных.      True       менеджер   \n3       подтверждение удаления статьи из журнала.      True       редактор   \n4  подтверждение удаления изображения из галереи.      True      модератор   \n\n  request_type                   endpoint  response_code  \n0       delete            /catalog/remove            200  \n1       delete       /post/comment/remove            200  \n2       delete  /database/customer/remove            200  \n3       delete   /magazine/article/remove            200  \n4       delete      /gallery/image/remove            200  ",
      "text/html": "<div>\n<style scoped>\n    .dataframe tbody tr th:only-of-type {\n        vertical-align: middle;\n    }\n\n    .dataframe tbody tr th {\n        vertical-align: top;\n    }\n\n    .dataframe thead th {\n        text-align: right;\n    }\n</style>\n<table border=\"1\" class=\"dataframe\">\n  <thead>\n    <tr style=\"text-align: right;\">\n      <th></th>\n      <th>text</th>\n      <th>description</th>\n      <th>action</th>\n      <th>expected_response</th>\n      <th>positive</th>\n      <th>actor</th>\n      <th>request_type</th>\n      <th>endpoint</th>\n      <th>response_code</th>\n    </tr>\n  </thead>\n  <tbody>\n    <tr>\n      <th>0</th>\n      <td>администратор удаляет товар из каталога.\\nдейс...</td>\n      <td>администратор удаляет товар из каталога.</td>\n      <td>delete-запрос к конечной точке \"/catalog/remov...</td>\n      <td>подтверждение удаления товара из каталога.</td>\n      <td>True</td>\n      <td>администратор</td>\n      <td>delete</td>\n      <td>/catalog/remove</td>\n      <td>200</td>\n    </tr>\n    <tr>\n      <th>1</th>\n      <td>модератор удаляет комментарий под постом.\\nдей...</td>\n      <td>модератор удаляет комментарий под постом.</td>\n      <td>delete-запрос к конечной точке \"/post/comment/...</td>\n      <td>подтверждение удаления комментария.</td>\n      <td>True</td>\n      <td>модератор</td>\n      <td>delete</td>\n      <td>/post/comment/remove</td>\n      <td>200</td>\n    </tr>\n    <tr>\n      <th>2</th>\n      <td>менеджер удаляет клиента из базы данных.\\nдейс...</td>\n      <td>менеджер удаляет клиента из базы данных.</td>\n      <td>delete-запрос к конечной точке \"/database/cust...</td>\n      <td>подтверждение удаления клиента из базы данных.</td>\n      <td>True</td>\n      <td>менеджер</td>\n      <td>delete</td>\n      <td>/database/customer/remove</td>\n      <td>200</td>\n    </tr>\n    <tr>\n      <th>3</th>\n      <td>редактор удаляет статью из журнала.\\nдействие:...</td>\n      <td>редактор удаляет статью из журнала.</td>\n      <td>delete-запрос к конечной точке \"/magazine/arti...</td>\n      <td>подтверждение удаления статьи из журнала.</td>\n      <td>True</td>\n      <td>редактор</td>\n      <td>delete</td>\n      <td>/magazine/article/remove</td>\n      <td>200</td>\n    </tr>\n    <tr>\n      <th>4</th>\n      <td>модератор удаляет изображение из галереи.\\nдей...</td>\n      <td>модератор удаляет изображение из галереи.</td>\n      <td>delete-запрос к конечной точке \"/gallery/image...</td>\n      <td>подтверждение удаления изображения из галереи.</td>\n      <td>True</td>\n      <td>модератор</td>\n      <td>delete</td>\n      <td>/gallery/image/remove</td>\n      <td>200</td>\n    </tr>\n  </tbody>\n</table>\n</div>"
     },
     "execution_count": 89,
     "metadata": {},
     "output_type": "execute_result"
    }
   ],
   "source": [
    "path_to_testcases = 'DATA/SYNTHETIC/synthetic_testcases.csv'\n",
    "tc_df = pd.read_csv(path_to_testcases, sep=';', index_col=0)\n",
    "tc_df.head()"
   ],
   "metadata": {
    "collapsed": false
   }
  },
  {
   "cell_type": "code",
   "execution_count": 90,
   "outputs": [
    {
     "data": {
      "text/plain": "  0%|          | 0/1 [00:00<?, ?it/s]",
      "application/vnd.jupyter.widget-view+json": {
       "version_major": 2,
       "version_minor": 0,
       "model_id": "6250ab7b6b944b8ebd4e68875be5f663"
      }
     },
     "metadata": {},
     "output_type": "display_data"
    },
    {
     "name": "stderr",
     "output_type": "stream",
     "text": [
      "2024-04-24 20:45:06.073639: I tensorflow/core/platform/cpu_feature_guard.cc:193] This TensorFlow binary is optimized with oneAPI Deep Neural Network Library (oneDNN) to use the following CPU instructions in performance-critical operations:  SSE4.1 SSE4.2 AVX AVX2 FMA\n",
      "To enable them in other operations, rebuild TensorFlow with the appropriate compiler flags.\n"
     ]
    },
    {
     "data": {
      "text/plain": "Running Prediction:   0%|          | 0/4 [00:00<?, ?it/s]",
      "application/vnd.jupyter.widget-view+json": {
       "version_major": 2,
       "version_minor": 0,
       "model_id": "97411bb2eb384db68b35a812f475f8f8"
      }
     },
     "metadata": {},
     "output_type": "display_data"
    }
   ],
   "source": [
    "prediction, model_output = model.predict(tc_df.text[:100].tolist())"
   ],
   "metadata": {
    "collapsed": false
   }
  },
  {
   "cell_type": "code",
   "execution_count": 91,
   "outputs": [
    {
     "data": {
      "text/plain": "[[{'администратор': 'B-ACTOR'},\n  {'удаляет': 'O'},\n  {'товар': 'O'},\n  {'из': 'O'},\n  {'каталога.': 'O'},\n  {'действие:': 'O'},\n  {'delete-запрос': 'B-REQUEST_TYPE'},\n  {'к': 'O'},\n  {'конечной': 'O'},\n  {'точке': 'O'},\n  {'\"/catalog/remove\"': 'O'},\n  {'с': 'O'},\n  {'параметром': 'O'},\n  {'product_id.': 'O'},\n  {'ожидаемый': 'O'},\n  {'ответ:': 'O'},\n  {'подтверждение': 'O'},\n  {'удаления': 'O'},\n  {'товара': 'O'},\n  {'из': 'O'},\n  {'каталога.': 'O'}],\n [{'модератор': 'B-ACTOR'},\n  {'удаляет': 'O'},\n  {'комментарий': 'O'},\n  {'под': 'O'},\n  {'постом.': 'O'},\n  {'действие:': 'O'},\n  {'delete-запрос': 'B-REQUEST_TYPE'},\n  {'к': 'O'},\n  {'конечной': 'O'},\n  {'точке': 'O'},\n  {'\"/post/comment/remove\"': 'O'},\n  {'с': 'O'},\n  {'параметром': 'O'},\n  {'comment_id.': 'O'},\n  {'ожидаемый': 'O'},\n  {'ответ:': 'O'},\n  {'подтверждение': 'O'},\n  {'удаления': 'O'},\n  {'комментария.': 'O'}],\n [{'менеджер': 'B-ACTOR'},\n  {'удаляет': 'O'},\n  {'клиента': 'O'},\n  {'из': 'O'},\n  {'базы': 'O'},\n  {'данных.': 'O'},\n  {'действие:': 'O'},\n  {'delete-запрос': 'B-REQUEST_TYPE'},\n  {'к': 'O'},\n  {'конечной': 'O'},\n  {'точке': 'O'},\n  {'\"/database/customer/remove\"': 'O'},\n  {'с': 'O'},\n  {'параметром': 'O'},\n  {'customer_id.': 'O'},\n  {'ожидаемый': 'O'},\n  {'ответ:': 'O'},\n  {'подтверждение': 'O'},\n  {'удаления': 'O'},\n  {'клиента': 'O'},\n  {'из': 'O'},\n  {'базы': 'O'},\n  {'данных.': 'O'}],\n [{'редактор': 'B-ACTOR'},\n  {'удаляет': 'O'},\n  {'статью': 'O'},\n  {'из': 'O'},\n  {'журнала.': 'O'},\n  {'действие:': 'O'},\n  {'delete-запрос': 'B-REQUEST_TYPE'},\n  {'к': 'O'},\n  {'конечной': 'O'},\n  {'точке': 'O'},\n  {'\"/magazine/article/remove\"': 'O'},\n  {'с': 'O'},\n  {'параметром': 'O'},\n  {'article_id.': 'O'},\n  {'ожидаемый': 'O'},\n  {'ответ:': 'O'},\n  {'подтверждение': 'O'},\n  {'удаления': 'O'},\n  {'статьи': 'O'},\n  {'из': 'O'},\n  {'журнала.': 'O'}],\n [{'модератор': 'B-ACTOR'},\n  {'удаляет': 'O'},\n  {'изображение': 'O'},\n  {'из': 'O'},\n  {'галереи.': 'O'},\n  {'действие:': 'O'},\n  {'delete-запрос': 'B-REQUEST_TYPE'},\n  {'к': 'O'},\n  {'конечной': 'O'},\n  {'точке': 'O'},\n  {'\"/gallery/image/remove\"': 'O'},\n  {'с': 'O'},\n  {'параметром': 'O'},\n  {'image_id.': 'O'},\n  {'ожидаемый': 'O'},\n  {'ответ:': 'O'},\n  {'подтверждение': 'O'},\n  {'удаления': 'O'},\n  {'изображения': 'O'},\n  {'из': 'O'},\n  {'галереи.': 'O'}],\n [{'администратор': 'B-ACTOR'},\n  {'удаляет': 'O'},\n  {'страницу': 'O'},\n  {'пользователя.': 'O'},\n  {'действие:': 'O'},\n  {'delete-запрос': 'B-REQUEST_TYPE'},\n  {'к': 'O'},\n  {'конечной': 'O'},\n  {'точке': 'O'},\n  {'\"/user/page/remove\"': 'O'},\n  {'с': 'O'},\n  {'параметром': 'O'},\n  {'user_id.': 'O'},\n  {'ожидаемый': 'O'},\n  {'ответ:': 'O'},\n  {'подтверждение': 'O'},\n  {'удаления': 'O'},\n  {'страницы': 'O'},\n  {'пользователя.': 'O'}],\n [{'менеджер': 'B-ACTOR'},\n  {'удаляет': 'O'},\n  {'заказ': 'O'},\n  {'из': 'O'},\n  {'системы.': 'O'},\n  {'действие:': 'O'},\n  {'delete-запрос': 'B-REQUEST_TYPE'},\n  {'к': 'O'},\n  {'конечной': 'O'},\n  {'точке': 'O'},\n  {'\"/system/order/remove\"': 'O'},\n  {'с': 'O'},\n  {'параметром': 'O'},\n  {'order_id.': 'O'},\n  {'ожидаемый': 'O'},\n  {'ответ:': 'O'},\n  {'подтверждение': 'O'},\n  {'удаления': 'O'},\n  {'заказа': 'O'},\n  {'из': 'O'},\n  {'системы.': 'O'}],\n [{'редактор': 'B-ACTOR'},\n  {'удаляет': 'O'},\n  {'комментарий': 'O'},\n  {'на': 'O'},\n  {'фотографии.': 'O'},\n  {'действие:': 'O'},\n  {'delete-запрос': 'B-REQUEST_TYPE'},\n  {'к': 'O'},\n  {'конечной': 'O'},\n  {'точке': 'O'},\n  {'\"/photo/comment/remove\"': 'O'},\n  {'с': 'O'},\n  {'параметром': 'O'},\n  {'comment_id.': 'O'},\n  {'ожидаемый': 'O'},\n  {'ответ:': 'O'},\n  {'подтверждение': 'O'},\n  {'удаления': 'O'},\n  {'комментария': 'O'},\n  {'на': 'O'},\n  {'фотографии.': 'O'}],\n [{'администратор': 'B-ACTOR'},\n  {'удаляет': 'O'},\n  {'видео': 'O'},\n  {'из': 'O'},\n  {'библиотеки.': 'O'},\n  {'действие:': 'O'},\n  {'delete-запрос': 'B-REQUEST_TYPE'},\n  {'к': 'O'},\n  {'конечной': 'O'},\n  {'точке': 'O'},\n  {'\"/library/video/remove\"': 'O'},\n  {'с': 'O'},\n  {'параметром': 'O'},\n  {'video_id.': 'O'},\n  {'ожидаемый': 'O'},\n  {'ответ:': 'O'},\n  {'подтверждение': 'O'},\n  {'удаления': 'O'},\n  {'видео': 'O'},\n  {'из': 'O'},\n  {'библиотеки.': 'O'}],\n [{'модератор': 'B-ACTOR'},\n  {'удаляет': 'O'},\n  {'сообщение': 'O'},\n  {'из': 'O'},\n  {'чата.': 'O'},\n  {'действие:': 'O'},\n  {'delete-запрос': 'B-REQUEST_TYPE'},\n  {'к': 'O'},\n  {'конечной': 'O'},\n  {'точке': 'O'},\n  {'\"/chat/message/remove\"': 'O'},\n  {'с': 'O'},\n  {'параметром': 'O'},\n  {'message_id.': 'O'},\n  {'ожидаемый': 'O'},\n  {'ответ:': 'O'},\n  {'подтверждение': 'O'},\n  {'удаления': 'O'},\n  {'сообщения': 'O'},\n  {'из': 'O'},\n  {'чата.': 'O'}],\n [{'менеджер': 'B-ACTOR'},\n  {'удаляет': 'O'},\n  {'товар': 'O'},\n  {'из': 'O'},\n  {'инвентаря.': 'O'},\n  {'действие:': 'O'},\n  {'delete-запрос': 'B-REQUEST_TYPE'},\n  {'к': 'O'},\n  {'конечной': 'O'},\n  {'точке': 'O'},\n  {'\"/inventory/item/remove\"': 'O'},\n  {'с': 'O'},\n  {'параметром': 'O'},\n  {'item_id.': 'O'},\n  {'ожидаемый': 'O'},\n  {'ответ:': 'O'},\n  {'подтверждение': 'O'},\n  {'удаления': 'O'},\n  {'товара': 'O'},\n  {'из': 'O'},\n  {'инвентаря.': 'O'}],\n [{'редактор': 'B-ACTOR'},\n  {'удаляет': 'O'},\n  {'страницу': 'O'},\n  {'из': 'O'},\n  {'вики.': 'O'},\n  {'действие:': 'O'},\n  {'delete-запрос': 'B-REQUEST_TYPE'},\n  {'к': 'O'},\n  {'конечной': 'O'},\n  {'точке': 'O'},\n  {'\"/wiki/page/remove\"': 'O'},\n  {'с': 'O'},\n  {'параметром': 'O'},\n  {'page_id.': 'O'},\n  {'ожидаемый': 'O'},\n  {'ответ:': 'O'},\n  {'подтверждение': 'O'},\n  {'удаления': 'O'},\n  {'страницы': 'O'},\n  {'из': 'O'},\n  {'вики.': 'O'}],\n [{'администратор': 'B-ACTOR'},\n  {'удаляет': 'O'},\n  {'категорию': 'O'},\n  {'из': 'O'},\n  {'каталога.': 'O'},\n  {'действие:': 'O'},\n  {'delete-запрос': 'B-REQUEST_TYPE'},\n  {'к': 'O'},\n  {'конечной': 'O'},\n  {'точке': 'O'},\n  {'\"/catalog/category/remove\"': 'O'},\n  {'с': 'O'},\n  {'параметром': 'O'},\n  {'category_id.': 'O'},\n  {'ожидаемый': 'O'},\n  {'ответ:': 'O'},\n  {'подтверждение': 'O'},\n  {'удаления': 'O'},\n  {'категории': 'O'},\n  {'из': 'O'},\n  {'каталога.': 'O'}],\n [{'модератор': 'B-ACTOR'},\n  {'удаляет': 'O'},\n  {'отзыв': 'O'},\n  {'о': 'O'},\n  {'товаре.': 'O'},\n  {'действие:': 'O'},\n  {'delete-запрос': 'B-REQUEST_TYPE'},\n  {'к': 'O'},\n  {'конечной': 'O'},\n  {'точке': 'O'},\n  {'\"/product/review/remove\"': 'O'},\n  {'с': 'O'},\n  {'параметром': 'O'},\n  {'review_id.': 'O'},\n  {'ожидаемый': 'O'},\n  {'ответ:': 'O'},\n  {'подтверждение': 'O'},\n  {'удаления': 'O'},\n  {'отзыва': 'O'},\n  {'о': 'O'},\n  {'товаре.': 'O'}],\n [{'менеджер': 'B-ACTOR'},\n  {'удаляет': 'O'},\n  {'предложение': 'O'},\n  {'сотрудничества.': 'O'},\n  {'действие:': 'O'},\n  {'delete-запрос': 'B-REQUEST_TYPE'},\n  {'к': 'O'},\n  {'конечной': 'O'},\n  {'точке': 'O'},\n  {'\"/partnership/proposal/remove\"': 'O'},\n  {'с': 'O'},\n  {'параметром': 'O'},\n  {'proposal_id.': 'O'},\n  {'ожидаемый': 'O'},\n  {'ответ:': 'O'},\n  {'подтверждение': 'O'},\n  {'удаления': 'O'},\n  {'предложения': 'O'},\n  {'сотрудничества.': 'O'}],\n [{'редактор': 'B-ACTOR'},\n  {'удаляет': 'O'},\n  {'страницу': 'O'},\n  {'из': 'O'},\n  {'архива.': 'O'},\n  {'действие:': 'O'},\n  {'delete-запрос': 'B-REQUEST_TYPE'},\n  {'к': 'O'},\n  {'конечной': 'O'},\n  {'точке': 'O'},\n  {'\"/archive/page/remove\"': 'O'},\n  {'с': 'O'},\n  {'параметром': 'O'},\n  {'page_id.': 'O'},\n  {'ожидаемый': 'O'},\n  {'ответ:': 'O'},\n  {'подтверждение': 'O'},\n  {'удаления': 'O'},\n  {'страницы': 'O'},\n  {'из': 'O'},\n  {'архива.': 'O'}],\n [{'администратор': 'B-ACTOR'},\n  {'удаляет': 'O'},\n  {'скидочный': 'O'},\n  {'купон': 'O'},\n  {'из': 'O'},\n  {'системы.': 'O'},\n  {'действие:': 'O'},\n  {'delete-запрос': 'B-REQUEST_TYPE'},\n  {'к': 'O'},\n  {'конечной': 'O'},\n  {'точке': 'O'},\n  {'\"/system/coupon/remove\"': 'O'},\n  {'с': 'O'},\n  {'параметром': 'O'},\n  {'coupon_id.': 'O'},\n  {'ожидаемый': 'O'},\n  {'ответ:': 'O'},\n  {'подтверждение': 'O'},\n  {'удаления': 'O'},\n  {'скидочного': 'O'},\n  {'купона': 'O'},\n  {'из': 'O'},\n  {'системы.': 'O'}],\n [{'модератор': 'B-ACTOR'},\n  {'удаляет': 'O'},\n  {'статью': 'O'},\n  {'из': 'O'},\n  {'базы': 'O'},\n  {'знаний.': 'O'},\n  {'действие:': 'O'},\n  {'delete-запрос': 'B-REQUEST_TYPE'},\n  {'к': 'O'},\n  {'конечной': 'O'},\n  {'точке': 'O'},\n  {'\"/knowledge-base/article/remove\"': 'O'},\n  {'с': 'O'},\n  {'параметром': 'O'},\n  {'article_id.': 'O'},\n  {'ожидаемый': 'O'},\n  {'ответ:': 'O'},\n  {'подтверждение': 'O'},\n  {'удаления': 'O'},\n  {'статьи': 'O'},\n  {'из': 'O'},\n  {'базы': 'O'},\n  {'знаний.': 'O'}],\n [{'менеджер': 'B-ACTOR'},\n  {'удаляет': 'O'},\n  {'счет': 'O'},\n  {'из': 'O'},\n  {'списка.': 'O'},\n  {'действие:': 'O'},\n  {'delete-запрос': 'B-REQUEST_TYPE'},\n  {'к': 'O'},\n  {'конечной': 'O'},\n  {'точке': 'O'},\n  {'\"/invoice/remove\"': 'O'},\n  {'с': 'O'},\n  {'параметром': 'O'},\n  {'invoice_id.': 'O'},\n  {'ожидаемый': 'O'},\n  {'ответ:': 'O'},\n  {'подтверждение': 'O'},\n  {'удаления': 'O'},\n  {'счета': 'O'},\n  {'из': 'O'},\n  {'списка.': 'O'}],\n [{'редактор': 'B-ACTOR'},\n  {'удаляет': 'O'},\n  {'событие': 'O'},\n  {'из': 'O'},\n  {'календаря.': 'O'},\n  {'действие:': 'O'},\n  {'delete-запрос': 'B-REQUEST_TYPE'},\n  {'к': 'O'},\n  {'конечной': 'O'},\n  {'точке': 'O'},\n  {'\"/calendar/event/remove\"': 'O'},\n  {'с': 'O'},\n  {'параметром': 'O'},\n  {'event_id.': 'O'},\n  {'ожидаемый': 'O'},\n  {'ответ:': 'O'},\n  {'подтверждение': 'O'},\n  {'удаления': 'O'},\n  {'события': 'O'},\n  {'из': 'O'},\n  {'календаря.': 'O'}],\n [{'администратор': 'B-ACTOR'},\n  {'удаляет': 'O'},\n  {'анкету': 'O'},\n  {'из': 'O'},\n  {'системы': 'O'},\n  {'опросов.': 'O'},\n  {'действие:': 'O'},\n  {'delete-запрос': 'B-REQUEST_TYPE'},\n  {'к': 'O'},\n  {'конечной': 'O'},\n  {'точке': 'O'},\n  {'\"/survey/form/remove\"': 'O'},\n  {'с': 'O'},\n  {'параметром': 'O'},\n  {'form_id.': 'O'},\n  {'ожидаемый': 'O'},\n  {'ответ:': 'O'},\n  {'подтверждение': 'O'},\n  {'удаления': 'O'},\n  {'анкеты': 'O'},\n  {'из': 'O'},\n  {'системы': 'O'},\n  {'опросов.': 'O'}],\n [{'модератор': 'B-ACTOR'},\n  {'удаляет': 'O'},\n  {'голосование': 'O'},\n  {'с': 'O'},\n  {'форума.': 'O'},\n  {'действие:': 'O'},\n  {'delete-запрос': 'B-REQUEST_TYPE'},\n  {'к': 'O'},\n  {'конечной': 'O'},\n  {'точке': 'O'},\n  {'\"/forum/poll/remove\"': 'O'},\n  {'с': 'O'},\n  {'параметром': 'O'},\n  {'poll_id.': 'O'},\n  {'ожидаемый': 'O'},\n  {'ответ:': 'O'},\n  {'подтверждение': 'O'},\n  {'удаления': 'O'},\n  {'голосования': 'O'},\n  {'с': 'O'},\n  {'форума.': 'O'}],\n [{'менеджер': 'B-ACTOR'},\n  {'удаляет': 'O'},\n  {'задачу': 'O'},\n  {'из': 'O'},\n  {'списка': 'O'},\n  {'проекта.': 'O'},\n  {'действие:': 'O'},\n  {'delete-запрос': 'B-REQUEST_TYPE'},\n  {'к': 'O'},\n  {'конечной': 'O'},\n  {'точке': 'O'},\n  {'\"/project/task/remove\"': 'O'},\n  {'с': 'O'},\n  {'параметром': 'O'},\n  {'task_id.': 'O'},\n  {'ожидаемый': 'O'},\n  {'ответ:': 'O'},\n  {'подтверждение': 'O'},\n  {'удаления': 'O'},\n  {'задачи': 'O'},\n  {'из': 'O'},\n  {'списка': 'O'},\n  {'проекта.': 'O'}],\n [{'редактор': 'B-ACTOR'},\n  {'удаляет': 'O'},\n  {'документ': 'O'},\n  {'из': 'O'},\n  {'архива.': 'O'},\n  {'действие:': 'O'},\n  {'delete-запрос': 'B-REQUEST_TYPE'},\n  {'к': 'O'},\n  {'конечной': 'O'},\n  {'точке': 'O'},\n  {'\"/archive/document/remove\"': 'O'},\n  {'с': 'O'},\n  {'параметром': 'O'},\n  {'document_id.': 'O'},\n  {'ожидаемый': 'O'},\n  {'ответ:': 'O'},\n  {'подтверждение': 'O'},\n  {'удаления': 'O'},\n  {'документа': 'O'},\n  {'из': 'O'},\n  {'архива.': 'O'}],\n [{'администратор': 'B-ACTOR'},\n  {'удаляет': 'O'},\n  {'виджет': 'O'},\n  {'с': 'O'},\n  {'главной': 'O'},\n  {'страницы.': 'O'},\n  {'действие:': 'O'},\n  {'delete-запрос': 'B-REQUEST_TYPE'},\n  {'к': 'O'},\n  {'конечной': 'O'},\n  {'точке': 'O'},\n  {'\"/homepage/widget/remove\"': 'O'},\n  {'с': 'O'},\n  {'параметром': 'O'},\n  {'widget_id.': 'O'},\n  {'ожидаемый': 'O'},\n  {'ответ:': 'O'},\n  {'подтверждение': 'O'},\n  {'удаления': 'O'},\n  {'виджета': 'O'},\n  {'с': 'O'},\n  {'главной': 'O'},\n  {'страницы.': 'O'}],\n [{'продавец': 'B-ACTOR'},\n  {'удаляет': 'O'},\n  {'товар': 'O'},\n  {'из': 'O'},\n  {'своего': 'O'},\n  {'магазина.': 'O'},\n  {'действие:': 'O'},\n  {'delete-запрос': 'B-REQUEST_TYPE'},\n  {'к': 'O'},\n  {'конечной': 'O'},\n  {'точке': 'O'},\n  {'\"/store/product/remove\"': 'O'},\n  {'с': 'O'},\n  {'параметром': 'O'},\n  {'product_id.': 'O'},\n  {'ожидаемый': 'O'},\n  {'ответ:': 'O'},\n  {'подтверждение': 'O'},\n  {'удаления': 'O'},\n  {'товара': 'O'},\n  {'из': 'O'},\n  {'магазина': 'O'},\n  {'продавца.': 'O'}],\n [{'покупатель': 'B-ACTOR'},\n  {'удаляет': 'O'},\n  {'свой': 'O'},\n  {'аккаунт': 'O'},\n  {'из': 'O'},\n  {'системы.': 'O'},\n  {'действие:': 'O'},\n  {'delete-запрос': 'B-REQUEST_TYPE'},\n  {'к': 'O'},\n  {'конечной': 'O'},\n  {'точке': 'O'},\n  {'\"/account/remove\"': 'O'},\n  {'с': 'O'},\n  {'параметром': 'O'},\n  {'user_id.': 'O'},\n  {'ожидаемый': 'O'},\n  {'ответ:': 'O'},\n  {'подтверждение': 'O'},\n  {'удаления': 'O'},\n  {'аккаунта': 'O'},\n  {'покупателя': 'O'},\n  {'из': 'O'},\n  {'системы.': 'O'}],\n [{'продавец': 'B-ACTOR'},\n  {'удаляет': 'O'},\n  {'объявление': 'O'},\n  {'о': 'O'},\n  {'продаже': 'O'},\n  {'автомобиля.': 'O'},\n  {'действие:': 'O'},\n  {'delete-запрос': 'B-REQUEST_TYPE'},\n  {'к': 'O'},\n  {'конечной': 'O'},\n  {'точке': 'O'},\n  {'\"/car/sale/ad/remove\"': 'O'},\n  {'с': 'O'},\n  {'параметром': 'O'},\n  {'ad_id.': 'O'},\n  {'ожидаемый': 'O'},\n  {'ответ:': 'O'},\n  {'подтверждение': 'O'},\n  {'удаления': 'O'},\n  {'объявления': 'O'},\n  {'о': 'O'},\n  {'продаже': 'O'},\n  {'автомобиля.': 'O'}],\n [{'покупатель': 'B-ACTOR'},\n  {'удаляет': 'O'},\n  {'товар': 'O'},\n  {'из': 'O'},\n  {'своего': 'O'},\n  {'списка': 'O'},\n  {'желаемого.': 'O'},\n  {'действие:': 'O'},\n  {'delete-запрос': 'B-REQUEST_TYPE'},\n  {'к': 'O'},\n  {'конечной': 'O'},\n  {'точке': 'O'},\n  {'\"/wishlist/item/remove\"': 'O'},\n  {'с': 'O'},\n  {'параметром': 'O'},\n  {'item_id.': 'O'},\n  {'ожидаемый': 'O'},\n  {'ответ:': 'O'},\n  {'подтверждение': 'O'},\n  {'удаления': 'O'},\n  {'товара': 'O'},\n  {'из': 'O'},\n  {'списка': 'O'},\n  {'желаемого': 'O'},\n  {'покупателя.': 'O'}],\n [{'продавец': 'B-ACTOR'},\n  {'удаляет': 'O'},\n  {'контакт': 'O'},\n  {'клиента': 'O'},\n  {'из': 'O'},\n  {'своего': 'O'},\n  {'списка': 'O'},\n  {'контактов.': 'O'},\n  {'действие:': 'O'},\n  {'delete-запрос': 'B-REQUEST_TYPE'},\n  {'к': 'O'},\n  {'конечной': 'O'},\n  {'точке': 'O'},\n  {'\"/contacts/remove\"': 'O'},\n  {'с': 'O'},\n  {'параметром': 'O'},\n  {'contact_id.': 'O'},\n  {'ожидаемый': 'O'},\n  {'ответ:': 'O'},\n  {'подтверждение': 'O'},\n  {'удаления': 'O'},\n  {'контакта': 'O'},\n  {'клиента': 'O'},\n  {'из': 'O'},\n  {'списка': 'O'},\n  {'контактов': 'O'},\n  {'продавца.': 'O'}],\n [{'покупатель': 'B-ACTOR'},\n  {'удаляет': 'O'},\n  {'товар': 'O'},\n  {'из': 'O'},\n  {'корзины': 'O'},\n  {'перед': 'O'},\n  {'оформлением': 'O'},\n  {'заказа.': 'O'},\n  {'действие:': 'O'},\n  {'delete-запрос': 'B-REQUEST_TYPE'},\n  {'к': 'O'},\n  {'конечной': 'O'},\n  {'точке': 'O'},\n  {'\"/cart/item/remove\"': 'O'},\n  {'с': 'O'},\n  {'параметром': 'O'},\n  {'item_id.': 'O'},\n  {'ожидаемый': 'O'},\n  {'ответ:': 'O'},\n  {'подтверждение': 'O'},\n  {'удаления': 'O'},\n  {'товара': 'O'},\n  {'из': 'O'},\n  {'корзины': 'O'},\n  {'перед': 'O'},\n  {'оформлением': 'O'},\n  {'заказа.': 'O'}],\n [{'продавец': 'B-ACTOR'},\n  {'удаляет': 'O'},\n  {'комментарий': 'O'},\n  {'покупателя': 'O'},\n  {'под': 'O'},\n  {'товаром.': 'O'},\n  {'действие:': 'O'},\n  {'delete-запрос': 'B-REQUEST_TYPE'},\n  {'к': 'O'},\n  {'конечной': 'O'},\n  {'точке': 'O'},\n  {'\"/product/comment/remove\"': 'O'},\n  {'с': 'O'},\n  {'параметром': 'O'},\n  {'comment_id.': 'O'},\n  {'ожидаемый': 'O'},\n  {'ответ:': 'O'},\n  {'подтверждение': 'O'},\n  {'удаления': 'O'},\n  {'комментария': 'O'},\n  {'покупателя': 'O'},\n  {'под': 'O'},\n  {'товаром.': 'O'}],\n [{'покупатель': 'B-ACTOR'},\n  {'удаляет': 'O'},\n  {'свой': 'O'},\n  {'отзыв': 'O'},\n  {'о': 'O'},\n  {'продукте.': 'O'},\n  {'действие:': 'O'},\n  {'delete-запрос': 'B-REQUEST_TYPE'},\n  {'к': 'O'},\n  {'конечной': 'O'},\n  {'точке': 'O'},\n  {'\"/product/review/remove\"': 'O'},\n  {'с': 'O'},\n  {'параметром': 'O'},\n  {'review_id.': 'O'},\n  {'ожидаемый': 'O'},\n  {'ответ:': 'O'},\n  {'подтверждение': 'O'},\n  {'удаления': 'O'},\n  {'отзыва': 'O'},\n  {'покупателя': 'O'},\n  {'о': 'O'},\n  {'продукте.': 'O'}],\n [{'продавец': 'B-ACTOR'},\n  {'удаляет': 'O'},\n  {'заявку': 'O'},\n  {'на': 'O'},\n  {'возврат': 'O'},\n  {'товара': 'O'},\n  {'от': 'O'},\n  {'покупателя.': 'O'},\n  {'действие:': 'O'},\n  {'delete-запрос': 'B-REQUEST_TYPE'},\n  {'к': 'O'},\n  {'конечной': 'O'},\n  {'точке': 'O'},\n  {'\"/return/request/remove\"': 'O'},\n  {'с': 'O'},\n  {'параметром': 'O'},\n  {'request_id.': 'O'},\n  {'ожидаемый': 'O'},\n  {'ответ:': 'O'},\n  {'подтверждение': 'O'},\n  {'удаления': 'O'},\n  {'заявки': 'O'},\n  {'на': 'O'},\n  {'возврат': 'O'},\n  {'товара': 'O'},\n  {'от': 'O'},\n  {'покупателя.': 'O'}],\n [{'покупатель': 'B-ACTOR'},\n  {'удаляет': 'O'},\n  {'товар': 'O'},\n  {'из': 'O'},\n  {'своего': 'O'},\n  {'списка': 'O'},\n  {'покупок.': 'O'},\n  {'действие:': 'O'},\n  {'delete-запрос': 'B-REQUEST_TYPE'},\n  {'к': 'O'},\n  {'конечной': 'O'},\n  {'точке': 'O'},\n  {'\"/shopping-list/item/remove\"': 'O'},\n  {'с': 'O'},\n  {'параметром': 'O'},\n  {'item_id.': 'O'},\n  {'ожидаемый': 'O'},\n  {'ответ:': 'O'},\n  {'подтверждение': 'O'},\n  {'удаления': 'O'},\n  {'товара': 'O'},\n  {'из': 'O'},\n  {'списка': 'O'},\n  {'покупок': 'O'},\n  {'покупателя.': 'O'}],\n [{'продавец': 'B-ACTOR'},\n  {'удаляет': 'O'},\n  {'свой': 'O'},\n  {'аккаунт': 'O'},\n  {'из': 'O'},\n  {'системы.': 'O'},\n  {'действие:': 'O'},\n  {'delete-запрос': 'B-REQUEST_TYPE'},\n  {'к': 'O'},\n  {'конечной': 'O'},\n  {'точке': 'O'},\n  {'\"/seller/account/remove\"': 'O'},\n  {'с': 'O'},\n  {'параметром': 'O'},\n  {'seller_id.': 'O'},\n  {'ожидаемый': 'O'},\n  {'ответ:': 'O'},\n  {'подтверждение': 'O'},\n  {'удаления': 'O'},\n  {'аккаунта': 'O'},\n  {'продавца': 'O'},\n  {'из': 'O'},\n  {'системы.': 'O'}],\n [{'покупатель': 'B-ACTOR'},\n  {'удаляет': 'O'},\n  {'свой': 'O'},\n  {'отзыв': 'O'},\n  {'о': 'O'},\n  {'продавце.': 'O'},\n  {'действие:': 'O'},\n  {'delete-запрос': 'B-REQUEST_TYPE'},\n  {'к': 'O'},\n  {'конечной': 'O'},\n  {'точке': 'O'},\n  {'\"/seller/review/remove\"': 'O'},\n  {'с': 'O'},\n  {'параметром': 'O'},\n  {'review_id.': 'O'},\n  {'ожидаемый': 'O'},\n  {'ответ:': 'O'},\n  {'подтверждение': 'O'},\n  {'удаления': 'O'},\n  {'отзыва': 'O'},\n  {'покупателя': 'O'},\n  {'о': 'O'},\n  {'продавце.': 'O'}],\n [{'продавец': 'B-ACTOR'},\n  {'удаляет': 'O'},\n  {'товар': 'O'},\n  {'из': 'O'},\n  {'своего': 'O'},\n  {'каталога': 'O'},\n  {'запчастей.': 'O'},\n  {'действие:': 'O'},\n  {'delete-запрос': 'B-REQUEST_TYPE'},\n  {'к': 'O'},\n  {'конечной': 'O'},\n  {'точке': 'O'},\n  {'\"/parts/catalog/item/remove\"': 'O'},\n  {'с': 'O'},\n  {'параметром': 'O'},\n  {'item_id.': 'O'},\n  {'ожидаемый': 'O'},\n  {'ответ:': 'O'},\n  {'подтверждение': 'O'},\n  {'удаления': 'O'},\n  {'товара': 'O'},\n  {'из': 'O'},\n  {'каталога': 'O'},\n  {'запчастей': 'O'},\n  {'продавца.': 'O'}],\n [{'покупатель': 'B-ACTOR'},\n  {'удаляет': 'O'},\n  {'адрес': 'O'},\n  {'доставки': 'O'},\n  {'из': 'O'},\n  {'своего': 'O'},\n  {'профиля.': 'O'},\n  {'действие:': 'O'},\n  {'delete-запрос': 'B-REQUEST_TYPE'},\n  {'к': 'O'},\n  {'конечной': 'O'},\n  {'точке': 'O'},\n  {'\"/profile/shipping-address/remove\"': 'O'},\n  {'с': 'O'},\n  {'параметром': 'O'},\n  {'address_id.': 'O'},\n  {'ожидаемый': 'O'},\n  {'ответ:': 'O'},\n  {'подтверждение': 'O'},\n  {'удаления': 'O'},\n  {'адреса': 'O'},\n  {'доставки': 'O'},\n  {'из': 'O'},\n  {'профиля': 'O'},\n  {'покупателя.': 'O'}],\n [{'продавец': 'B-ACTOR'},\n  {'удаляет': 'O'},\n  {'услугу': 'O'},\n  {'из': 'O'},\n  {'своего': 'O'},\n  {'списка': 'O'},\n  {'предложений.': 'O'},\n  {'действие:': 'O'},\n  {'delete-запрос': 'B-REQUEST_TYPE'},\n  {'к': 'O'},\n  {'конечной': 'O'},\n  {'точке': 'O'},\n  {'\"/services/listing/remove\"': 'O'},\n  {'с': 'O'},\n  {'параметром': 'O'},\n  {'service_id.': 'O'},\n  {'ожидаемый': 'O'},\n  {'ответ:': 'O'},\n  {'подтверждение': 'O'},\n  {'удаления': 'O'},\n  {'услуги': 'O'},\n  {'из': 'O'},\n  {'списка': 'O'},\n  {'предложений': 'O'},\n  {'продавца.': 'O'}],\n [{'покупатель': 'B-ACTOR'},\n  {'удаляет': 'O'},\n  {'товар': 'O'},\n  {'из': 'O'},\n  {'списка': 'O'},\n  {'избранных': 'O'},\n  {'товаров.': 'O'},\n  {'действие:': 'O'},\n  {'delete-запрос': 'B-REQUEST_TYPE'},\n  {'к': 'O'},\n  {'конечной': 'O'},\n  {'точке': 'O'},\n  {'\"/favorites/item/remove\"': 'O'},\n  {'с': 'O'},\n  {'параметром': 'O'},\n  {'item_id.': 'O'},\n  {'ожидаемый': 'O'},\n  {'ответ:': 'O'},\n  {'подтверждение': 'O'},\n  {'удаления': 'O'},\n  {'товара': 'O'},\n  {'из': 'O'},\n  {'списка': 'O'},\n  {'избранных': 'O'},\n  {'товаров': 'O'},\n  {'покупателя.': 'O'}],\n [{'продавец': 'B-ACTOR'},\n  {'удаляет': 'O'},\n  {'комментарий': 'O'},\n  {'покупателя': 'O'},\n  {'под': 'O'},\n  {'своим': 'O'},\n  {'объявлением.': 'O'},\n  {'действие:': 'O'},\n  {'delete-запрос': 'B-REQUEST_TYPE'},\n  {'к': 'O'},\n  {'конечной': 'O'},\n  {'точке': 'O'},\n  {'\"/ad/comment/remove\"': 'O'},\n  {'с': 'O'},\n  {'параметром': 'O'},\n  {'comment_id.': 'O'},\n  {'ожидаемый': 'O'},\n  {'ответ:': 'O'},\n  {'подтверждение': 'O'},\n  {'удаления': 'O'},\n  {'комментария': 'O'},\n  {'покупателя': 'O'},\n  {'под': 'O'},\n  {'объявлением.': 'O'}],\n [{'покупатель': 'B-ACTOR'},\n  {'удаляет': 'O'},\n  {'свое': 'O'},\n  {'предложение': 'O'},\n  {'на': 'O'},\n  {'товар.': 'O'},\n  {'действие:': 'O'},\n  {'delete-запрос': 'B-REQUEST_TYPE'},\n  {'к': 'O'},\n  {'конечной': 'O'},\n  {'точке': 'O'},\n  {'\"/offer/remove\"': 'O'},\n  {'с': 'O'},\n  {'параметром': 'O'},\n  {'offer_id.': 'O'},\n  {'ожидаемый': 'O'},\n  {'ответ:': 'O'},\n  {'подтверждение': 'O'},\n  {'удаления': 'O'},\n  {'предложения': 'O'},\n  {'покупателя': 'O'},\n  {'на': 'O'},\n  {'товар.': 'O'}],\n [{'продавец': 'B-ACTOR'},\n  {'удаляет': 'O'},\n  {'отзыв': 'O'},\n  {'о': 'O'},\n  {'товаре': 'O'},\n  {'от': 'O'},\n  {'покупателя.': 'O'},\n  {'действие:': 'O'},\n  {'delete-запрос': 'B-REQUEST_TYPE'},\n  {'к': 'O'},\n  {'конечной': 'O'},\n  {'точке': 'O'},\n  {'\"/product/review/remove\"': 'O'},\n  {'с': 'O'},\n  {'параметром': 'O'},\n  {'review_id.': 'O'},\n  {'ожидаемый': 'O'},\n  {'ответ:': 'O'},\n  {'подтверждение': 'O'},\n  {'удаления': 'O'},\n  {'отзыва': 'O'},\n  {'о': 'O'},\n  {'товаре': 'O'},\n  {'от': 'O'},\n  {'покупателя.': 'O'}],\n [{'покупатель': 'B-ACTOR'},\n  {'удаляет': 'O'},\n  {'товар': 'O'},\n  {'из': 'O'},\n  {'корзины': 'O'},\n  {'перед': 'O'},\n  {'оформлением': 'O'},\n  {'заказа.': 'O'},\n  {'действие:': 'O'},\n  {'delete-запрос': 'B-REQUEST_TYPE'},\n  {'к': 'O'},\n  {'конечной': 'O'},\n  {'точке': 'O'},\n  {'\"/cart/item/remove\"': 'O'},\n  {'с': 'O'},\n  {'параметром': 'O'},\n  {'item_id.': 'O'},\n  {'ожидаемый': 'O'},\n  {'ответ:': 'O'},\n  {'подтверждение': 'O'},\n  {'удаления': 'O'},\n  {'товара': 'O'},\n  {'из': 'O'},\n  {'корзины': 'O'},\n  {'перед': 'O'},\n  {'оформлением': 'O'},\n  {'заказа.': 'O'}],\n [{'продавец': 'B-ACTOR'},\n  {'удаляет': 'O'},\n  {'комментарий': 'O'},\n  {'покупателя': 'O'},\n  {'под': 'O'},\n  {'товаром.': 'O'},\n  {'действие:': 'O'},\n  {'delete-запрос': 'B-REQUEST_TYPE'},\n  {'к': 'O'},\n  {'конечной': 'O'},\n  {'точке': 'O'},\n  {'\"/product/comment/remove\"': 'O'},\n  {'с': 'O'},\n  {'параметром': 'O'},\n  {'comment_id.': 'O'},\n  {'ожидаемый': 'O'},\n  {'ответ:': 'O'},\n  {'подтверждение': 'O'},\n  {'удаления': 'O'},\n  {'комментария': 'O'},\n  {'покупателя': 'O'},\n  {'под': 'O'},\n  {'товаром.': 'O'}],\n [{'покупатель': 'B-ACTOR'},\n  {'удаляет': 'O'},\n  {'свой': 'O'},\n  {'отзыв': 'O'},\n  {'о': 'O'},\n  {'продукте.': 'O'},\n  {'действие:': 'O'},\n  {'delete-запрос': 'B-REQUEST_TYPE'},\n  {'к': 'O'},\n  {'конечной': 'O'},\n  {'точке': 'O'},\n  {'\"/product/review/remove\"': 'O'},\n  {'с': 'O'},\n  {'параметром': 'O'},\n  {'review_id.': 'O'},\n  {'ожидаемый': 'O'},\n  {'ответ:': 'O'},\n  {'подтверждение': 'O'},\n  {'удаления': 'O'},\n  {'отзыва': 'O'},\n  {'покупателя': 'O'},\n  {'о': 'O'},\n  {'продукте.': 'O'}],\n [{'продавец': 'B-ACTOR'},\n  {'удаляет': 'O'},\n  {'заявку': 'O'},\n  {'на': 'O'},\n  {'возврат': 'O'},\n  {'товара': 'O'},\n  {'от': 'O'},\n  {'покупателя.': 'O'},\n  {'действие:': 'O'},\n  {'delete-запрос': 'B-REQUEST_TYPE'},\n  {'к': 'O'},\n  {'конечной': 'O'},\n  {'точке': 'O'},\n  {'\"/return/request/remove\"': 'O'},\n  {'с': 'O'},\n  {'параметром': 'O'},\n  {'request_id.': 'O'},\n  {'ожидаемый': 'O'},\n  {'ответ:': 'O'},\n  {'подтверждение': 'O'},\n  {'удаления': 'O'},\n  {'заявки': 'O'},\n  {'на': 'O'},\n  {'возврат': 'O'},\n  {'товара': 'O'},\n  {'от': 'O'},\n  {'покупателя.': 'O'}],\n [{'покупатель': 'B-ACTOR'},\n  {'удаляет': 'O'},\n  {'товар': 'O'},\n  {'из': 'O'},\n  {'своего': 'O'},\n  {'списка': 'O'},\n  {'покупок.': 'O'},\n  {'действие:': 'O'},\n  {'delete-запрос': 'B-REQUEST_TYPE'},\n  {'к': 'O'},\n  {'конечной': 'O'},\n  {'точке': 'O'},\n  {'\"/shopping-list/item/remove\"': 'O'},\n  {'с': 'O'},\n  {'параметром': 'O'},\n  {'item_id.': 'O'},\n  {'ожидаемый': 'O'},\n  {'ответ:': 'O'},\n  {'подтверждение': 'O'},\n  {'удаления': 'O'},\n  {'товара': 'O'},\n  {'из': 'O'},\n  {'списка': 'O'},\n  {'покупок': 'O'},\n  {'покупателя.': 'O'}],\n [{'продавец': 'B-ACTOR'},\n  {'удаляет': 'O'},\n  {'свой': 'O'},\n  {'аккаунт': 'O'},\n  {'из': 'O'},\n  {'системы.': 'O'},\n  {'действие:': 'O'},\n  {'delete-запрос': 'B-REQUEST_TYPE'},\n  {'к': 'O'},\n  {'конечной': 'O'},\n  {'точке': 'O'},\n  {'\"/seller/account/remove\"': 'O'},\n  {'с': 'O'},\n  {'параметром': 'O'},\n  {'seller_id.': 'O'},\n  {'ожидаемый': 'O'},\n  {'ответ:': 'O'},\n  {'подтверждение': 'O'},\n  {'удаления': 'O'},\n  {'аккаунта': 'O'},\n  {'продавца': 'O'},\n  {'из': 'O'},\n  {'системы.': 'O'}],\n [{'покупатель': 'B-ACTOR'},\n  {'пытается': 'O'},\n  {'удалить': 'O'},\n  {'несуществующий': 'O'},\n  {'товар': 'O'},\n  {'из': 'O'},\n  {'корзины.': 'O'},\n  {'действие:': 'O'},\n  {'delete-запрос': 'B-REQUEST_TYPE'},\n  {'к': 'O'},\n  {'конечной': 'O'},\n  {'точке': 'O'},\n  {'\"/cart/item/remove\"': 'O'},\n  {'с': 'O'},\n  {'недопустимым': 'O'},\n  {'item_id.': 'O'},\n  {'ожидаемый': 'O'},\n  {'ответ:': 'O'},\n  {'код': 'O'},\n  {'ошибки': 'O'},\n  {'404': 'B-RESPONSE_CODE'},\n  {'-': 'O'},\n  {'товар': 'O'},\n  {'не': 'O'},\n  {'найден': 'O'},\n  {'в': 'O'},\n  {'корзине.': 'O'}],\n [{'продавец': 'B-ACTOR'},\n  {'пытается': 'O'},\n  {'удалить': 'O'},\n  {'несуществующее': 'O'},\n  {'объявление': 'O'},\n  {'из': 'O'},\n  {'магазина.': 'O'},\n  {'действие:': 'O'},\n  {'delete-запрос': 'B-REQUEST_TYPE'},\n  {'к': 'O'},\n  {'конечной': 'O'},\n  {'точке': 'O'},\n  {'\"/store/product/remove\"': 'O'},\n  {'с': 'O'},\n  {'недопустимым': 'O'},\n  {'product_id.': 'O'},\n  {'ожидаемый': 'O'},\n  {'ответ:': 'O'},\n  {'код': 'O'},\n  {'ошибки': 'O'},\n  {'404': 'B-RESPONSE_CODE'},\n  {'-': 'O'},\n  {'объявление': 'O'},\n  {'не': 'O'},\n  {'найдено': 'O'},\n  {'в': 'O'},\n  {'магазине.': 'O'}],\n [{'покупатель': 'B-ACTOR'},\n  {'пытается': 'O'},\n  {'удалить': 'O'},\n  {'товар': 'O'},\n  {'из': 'O'},\n  {'корзины': 'O'},\n  {'без': 'O'},\n  {'указания': 'O'},\n  {'item_id.': 'O'},\n  {'действие:': 'O'},\n  {'delete-запрос': 'B-REQUEST_TYPE'},\n  {'к': 'O'},\n  {'конечной': 'O'},\n  {'точке': 'O'},\n  {'\"/cart/item/remove\"': 'O'},\n  {'без': 'O'},\n  {'параметра': 'O'},\n  {'item_id.': 'O'},\n  {'ожидаемый': 'O'},\n  {'ответ:': 'O'},\n  {'код': 'O'},\n  {'ошибки': 'O'},\n  {'400': 'B-RESPONSE_CODE'},\n  {'-': 'O'},\n  {'не': 'O'},\n  {'указан': 'O'},\n  {'идентификатор': 'O'},\n  {'товара.': 'O'}],\n [{'продавец': 'B-ACTOR'},\n  {'пытается': 'O'},\n  {'удалить': 'O'},\n  {'комментарий,': 'O'},\n  {'которого': 'O'},\n  {'уже': 'O'},\n  {'не': 'O'},\n  {'существует.': 'O'},\n  {'действие:': 'O'},\n  {'delete-запрос': 'B-REQUEST_TYPE'},\n  {'к': 'O'},\n  {'конечной': 'O'},\n  {'точке': 'O'},\n  {'\"/product/comment/remove\"': 'O'},\n  {'с': 'O'},\n  {'недопустимым': 'O'},\n  {'comment_id.': 'O'},\n  {'ожидаемый': 'O'},\n  {'ответ:': 'O'},\n  {'код': 'O'},\n  {'ошибки': 'O'},\n  {'404': 'B-RESPONSE_CODE'},\n  {'-': 'O'},\n  {'комментарий': 'O'},\n  {'не': 'O'},\n  {'найден.': 'O'}],\n [{'покупатель': 'B-ACTOR'},\n  {'пытается': 'O'},\n  {'удалить': 'O'},\n  {'свой': 'O'},\n  {'аккаунт,': 'O'},\n  {'но': 'O'},\n  {'не': 'O'},\n  {'авторизован.': 'O'},\n  {'действие:': 'O'},\n  {'delete-запрос': 'B-REQUEST_TYPE'},\n  {'к': 'O'},\n  {'конечной': 'O'},\n  {'точке': 'O'},\n  {'\"/account/remove\"': 'O'},\n  {'без': 'O'},\n  {'авторизации.': 'O'},\n  {'ожидаемый': 'O'},\n  {'ответ:': 'O'},\n  {'код': 'O'},\n  {'ошибки': 'O'},\n  {'401': 'B-RESPONSE_CODE'},\n  {'-': 'O'},\n  {'необходима': 'O'},\n  {'авторизация': 'O'},\n  {'для': 'O'},\n  {'удаления': 'O'},\n  {'аккаунта.': 'O'}],\n [{'продавец': 'B-ACTOR'},\n  {'пытается': 'O'},\n  {'удалить': 'O'},\n  {'товар': 'O'},\n  {'из': 'O'},\n  {'магазина': 'O'},\n  {'другого': 'O'},\n  {'продавца.': 'O'},\n  {'действие:': 'O'},\n  {'delete-запрос': 'B-REQUEST_TYPE'},\n  {'к': 'O'},\n  {'конечной': 'O'},\n  {'точке': 'O'},\n  {'\"/store/product/remove\"': 'O'},\n  {'с': 'O'},\n  {'недопустимым': 'O'},\n  {'seller_id.': 'O'},\n  {'ожидаемый': 'O'},\n  {'ответ:': 'O'},\n  {'код': 'O'},\n  {'ошибки': 'O'},\n  {'403': 'B-RESPONSE_CODE'},\n  {'-': 'O'},\n  {'нет': 'O'},\n  {'доступа': 'O'},\n  {'к': 'O'},\n  {'удалению': 'O'},\n  {'товара': 'O'},\n  {'другого': 'O'},\n  {'продавца.': 'O'}],\n [{'покупатель': 'B-ACTOR'},\n  {'пытается': 'O'},\n  {'удалить': 'O'},\n  {'несуществующий': 'O'},\n  {'адрес': 'O'},\n  {'доставки': 'O'},\n  {'из': 'O'},\n  {'профиля.': 'O'},\n  {'действие:': 'O'},\n  {'delete-запрос': 'B-REQUEST_TYPE'},\n  {'к': 'O'},\n  {'конечной': 'O'},\n  {'точке': 'O'},\n  {'\"/profile/shipping-address/remove\"': 'O'},\n  {'с': 'O'},\n  {'недопустимым': 'O'},\n  {'address_id.': 'O'},\n  {'ожидаемый': 'O'},\n  {'ответ:': 'O'},\n  {'код': 'O'},\n  {'ошибки': 'O'},\n  {'404': 'B-RESPONSE_CODE'},\n  {'-': 'O'},\n  {'адрес': 'O'},\n  {'доставки': 'O'},\n  {'не': 'O'},\n  {'найден': 'O'},\n  {'в': 'O'},\n  {'профиле.': 'O'}],\n [{'продавец': 'B-ACTOR'},\n  {'пытается': 'O'},\n  {'удалить': 'O'},\n  {'отзыв': 'O'},\n  {'о': 'O'},\n  {'своем': 'O'},\n  {'магазине,': 'O'},\n  {'который': 'O'},\n  {'был': 'O'},\n  {'уже': 'O'},\n  {'удален.': 'O'},\n  {'действие:': 'O'},\n  {'delete-запрос': 'B-REQUEST_TYPE'},\n  {'к': 'O'},\n  {'конечной': 'O'},\n  {'точке': 'O'},\n  {'\"/seller/review/remove\"': 'O'},\n  {'с': 'O'},\n  {'недопустимым': 'O'},\n  {'review_id.': 'O'},\n  {'ожидаемый': 'O'},\n  {'ответ:': 'O'},\n  {'код': 'O'},\n  {'ошибки': 'O'},\n  {'404': 'B-RESPONSE_CODE'},\n  {'-': 'O'},\n  {'отзыв': 'O'},\n  {'не': 'O'},\n  {'найден.': 'O'}],\n [{'покупатель': 'B-ACTOR'},\n  {'пытается': 'O'},\n  {'удалить': 'O'},\n  {'товар': 'O'},\n  {'из': 'O'},\n  {'корзины,': 'O'},\n  {'но': 'O'},\n  {'сессия': 'O'},\n  {'истекла.': 'O'},\n  {'действие:': 'O'},\n  {'delete-запрос': 'B-REQUEST_TYPE'},\n  {'к': 'O'},\n  {'конечной': 'O'},\n  {'точке': 'O'},\n  {'\"/cart/item/remove\"': 'O'},\n  {'после': 'O'},\n  {'истечения': 'O'},\n  {'срока': 'O'},\n  {'сессии.': 'O'},\n  {'ожидаемый': 'O'},\n  {'ответ:': 'O'},\n  {'код': 'O'},\n  {'ошибки': 'O'},\n  {'401': 'B-RESPONSE_CODE'},\n  {'-': 'O'},\n  {'сессия': 'O'},\n  {'истекла,': 'O'},\n  {'необходима': 'O'},\n  {'повторная': 'O'},\n  {'авторизация.': 'O'}],\n [{'продавец': 'B-ACTOR'},\n  {'пытается': 'O'},\n  {'удалить': 'O'},\n  {'заказ,': 'O'},\n  {'который': 'O'},\n  {'уже': 'O'},\n  {'был': 'O'},\n  {'отгружен.': 'O'},\n  {'действие:': 'O'},\n  {'delete-запрос': 'B-REQUEST_TYPE'},\n  {'к': 'O'},\n  {'конечной': 'O'},\n  {'точке': 'O'},\n  {'\"/order/remove\"': 'O'},\n  {'с': 'O'},\n  {'недопустимым': 'O'},\n  {'order_id.': 'O'},\n  {'ожидаемый': 'O'},\n  {'ответ:': 'O'},\n  {'код': 'O'},\n  {'ошибки': 'O'},\n  {'403': 'B-RESPONSE_CODE'},\n  {'-': 'O'},\n  {'нельзя': 'O'},\n  {'удалить': 'O'},\n  {'уже': 'O'},\n  {'отгруженный': 'O'},\n  {'заказ.': 'O'}],\n [{'покупатель': 'B-ACTOR'},\n  {'пытается': 'O'},\n  {'удалить': 'O'},\n  {'товар': 'O'},\n  {'из': 'O'},\n  {'корзины,': 'O'},\n  {'используя': 'O'},\n  {'недействительный': 'O'},\n  {'token.': 'O'},\n  {'действие:': 'O'},\n  {'delete-запрос': 'B-REQUEST_TYPE'},\n  {'к': 'O'},\n  {'конечной': 'O'},\n  {'точке': 'O'},\n  {'\"/cart/item/remove\"': 'O'},\n  {'с': 'O'},\n  {'недействительным': 'O'},\n  {'token.': 'O'},\n  {'ожидаемый': 'O'},\n  {'ответ:': 'O'},\n  {'код': 'O'},\n  {'ошибки': 'O'},\n  {'403': 'B-RESPONSE_CODE'},\n  {'-': 'O'},\n  {'недействительный': 'O'},\n  {'токен,': 'O'},\n  {'доступ': 'O'},\n  {'запрещен.': 'O'}],\n [{'продавец': 'B-ACTOR'},\n  {'пытается': 'O'},\n  {'удалить': 'O'},\n  {'несуществующий': 'O'},\n  {'товар': 'O'},\n  {'из': 'O'},\n  {'своего': 'O'},\n  {'каталога.': 'O'},\n  {'действие:': 'O'},\n  {'delete-запрос': 'B-REQUEST_TYPE'},\n  {'к': 'O'},\n  {'конечной': 'O'},\n  {'точке': 'O'},\n  {'\"/store/product/remove\"': 'O'},\n  {'с': 'O'},\n  {'недопустимым': 'O'},\n  {'product_id.': 'O'},\n  {'ожидаемый': 'O'},\n  {'ответ:': 'O'},\n  {'код': 'O'},\n  {'ошибки': 'O'},\n  {'404': 'B-RESPONSE_CODE'},\n  {'-': 'O'},\n  {'товар': 'O'},\n  {'не': 'O'},\n  {'найден': 'O'},\n  {'в': 'O'},\n  {'каталоге': 'O'},\n  {'продавца.': 'O'}],\n [{'покупатель': 'B-ACTOR'},\n  {'пытается': 'O'},\n  {'удалить': 'O'},\n  {'заказ,': 'O'},\n  {'который': 'O'},\n  {'был': 'O'},\n  {'уже': 'O'},\n  {'оплачен.': 'O'},\n  {'действие:': 'O'},\n  {'delete-запрос': 'B-REQUEST_TYPE'},\n  {'к': 'O'},\n  {'конечной': 'O'},\n  {'точке': 'O'},\n  {'\"/order/remove\"': 'O'},\n  {'с': 'O'},\n  {'недопустимым': 'O'},\n  {'order_id.': 'O'},\n  {'ожидаемый': 'O'},\n  {'ответ:': 'O'},\n  {'код': 'O'},\n  {'ошибки': 'O'},\n  {'403': 'B-RESPONSE_CODE'},\n  {'-': 'O'},\n  {'нельзя': 'O'},\n  {'удалить': 'O'},\n  {'оплаченный': 'O'},\n  {'заказ.': 'O'}],\n [{'продавец': 'B-ACTOR'},\n  {'пытается': 'O'},\n  {'удалить': 'O'},\n  {'комментарий,': 'O'},\n  {'которого': 'O'},\n  {'уже': 'O'},\n  {'не': 'O'},\n  {'существует.': 'O'},\n  {'действие:': 'O'},\n  {'delete-запрос': 'B-REQUEST_TYPE'},\n  {'к': 'O'},\n  {'конечной': 'O'},\n  {'точке': 'O'},\n  {'\"/product/comment/remove\"': 'O'},\n  {'с': 'O'},\n  {'недопустимым': 'O'},\n  {'comment_id.': 'O'},\n  {'ожидаемый': 'O'},\n  {'ответ:': 'O'},\n  {'код': 'O'},\n  {'ошибки': 'O'},\n  {'404': 'B-RESPONSE_CODE'},\n  {'-': 'O'},\n  {'комментарий': 'O'},\n  {'не': 'O'},\n  {'найден.': 'O'}],\n [{'покупатель': 'B-ACTOR'},\n  {'пытается': 'O'},\n  {'удалить': 'O'},\n  {'товар': 'O'},\n  {'из': 'O'},\n  {'корзины,': 'O'},\n  {'который': 'O'},\n  {'уже': 'O'},\n  {'был': 'O'},\n  {'удален.': 'O'},\n  {'действие:': 'O'},\n  {'delete-запрос': 'B-REQUEST_TYPE'},\n  {'к': 'O'},\n  {'конечной': 'O'},\n  {'точке': 'O'},\n  {'\"/cart/item/remove\"': 'O'},\n  {'с': 'O'},\n  {'недопустимым': 'O'},\n  {'item_id.': 'O'},\n  {'ожидаемый': 'O'},\n  {'ответ:': 'O'},\n  {'код': 'O'},\n  {'ошибки': 'O'},\n  {'404': 'B-RESPONSE_CODE'},\n  {'-': 'O'},\n  {'товар': 'O'},\n  {'уже': 'O'},\n  {'удален': 'O'},\n  {'из': 'O'},\n  {'корзины.': 'O'}],\n [{'продавец': 'B-ACTOR'},\n  {'пытается': 'O'},\n  {'удалить': 'O'},\n  {'свою': 'O'},\n  {'учетную': 'O'},\n  {'запись,': 'O'},\n  {'но': 'O'},\n  {'у': 'O'},\n  {'него': 'O'},\n  {'нет': 'O'},\n  {'соответствующих': 'O'},\n  {'прав.': 'O'},\n  {'действие:': 'O'},\n  {'delete-запрос': 'B-REQUEST_TYPE'},\n  {'к': 'O'},\n  {'конечной': 'O'},\n  {'точке': 'O'},\n  {'\"/seller/account/remove\"': 'O'},\n  {'без': 'O'},\n  {'необходимых': 'O'},\n  {'прав': 'O'},\n  {'доступа.': 'O'},\n  {'ожидаемый': 'O'},\n  {'ответ:': 'O'},\n  {'код': 'O'},\n  {'ошибки': 'O'},\n  {'403': 'B-RESPONSE_CODE'},\n  {'-': 'O'},\n  {'отказано': 'O'},\n  {'в': 'O'},\n  {'доступе': 'O'},\n  {'к': 'O'},\n  {'удалению': 'O'},\n  {'учетной': 'O'},\n  {'записи': 'O'},\n  {'продавца.': 'O'}],\n [{'покупатель': 'B-ACTOR'},\n  {'пытается': 'O'},\n  {'удалить': 'O'},\n  {'товар': 'O'},\n  {'из': 'O'},\n  {'корзины,': 'O'},\n  {'которого': 'O'},\n  {'уже': 'O'},\n  {'нет': 'O'},\n  {'в': 'O'},\n  {'наличии.': 'O'},\n  {'действие:': 'O'},\n  {'delete-запрос': 'B-REQUEST_TYPE'},\n  {'к': 'O'},\n  {'конечной': 'O'},\n  {'точке': 'O'},\n  {'\"/cart/item/remove\"': 'O'},\n  {'с': 'O'},\n  {'параметром': 'O'},\n  {'item_id.': 'O'},\n  {'ожидаемый': 'O'},\n  {'ответ:': 'O'},\n  {'код': 'O'},\n  {'ошибки': 'O'},\n  {'404': 'B-RESPONSE_CODE'},\n  {'-': 'O'},\n  {'товар': 'O'},\n  {'уже': 'O'},\n  {'продан': 'O'},\n  {'или': 'O'},\n  {'удален.': 'O'}],\n [{'продавец': 'B-ACTOR'},\n  {'пытается': 'O'},\n  {'удалить': 'O'},\n  {'товар': 'O'},\n  {'из': 'O'},\n  {'каталога': 'O'},\n  {'без': 'O'},\n  {'необходимых': 'O'},\n  {'прав': 'O'},\n  {'доступа.': 'O'},\n  {'действие:': 'O'},\n  {'delete-запрос': 'B-REQUEST_TYPE'},\n  {'к': 'O'},\n  {'конечной': 'O'},\n  {'точке': 'O'},\n  {'\"/store/product/remove\"': 'O'},\n  {'без': 'O'},\n  {'необходимых': 'O'},\n  {'прав.': 'O'},\n  {'ожидаемый': 'O'},\n  {'ответ:': 'O'},\n  {'код': 'O'},\n  {'ошибки': 'O'},\n  {'403': 'B-RESPONSE_CODE'},\n  {'-': 'O'},\n  {'отказано': 'O'},\n  {'в': 'O'},\n  {'доступе': 'O'},\n  {'к': 'O'},\n  {'удалению': 'O'},\n  {'товара': 'O'},\n  {'из': 'O'},\n  {'каталога.': 'O'}],\n [{'покупатель': 'B-ACTOR'},\n  {'пытается': 'O'},\n  {'удалить': 'O'},\n  {'свой': 'O'},\n  {'аккаунт,': 'O'},\n  {'используя': 'O'},\n  {'недействительные': 'O'},\n  {'учетные': 'O'},\n  {'данные.': 'O'},\n  {'действие:': 'O'},\n  {'delete-запрос': 'B-REQUEST_TYPE'},\n  {'к': 'O'},\n  {'конечной': 'O'},\n  {'точке': 'O'},\n  {'\"/account/remove\"': 'O'},\n  {'с': 'O'},\n  {'недействительными': 'O'},\n  {'учетными': 'O'},\n  {'данными.': 'O'},\n  {'ожидаемый': 'O'},\n  {'ответ:': 'O'},\n  {'код': 'O'},\n  {'ошибки': 'O'},\n  {'401': 'B-RESPONSE_CODE'},\n  {'-': 'O'},\n  {'неверные': 'O'},\n  {'учетные': 'O'},\n  {'данные,': 'O'},\n  {'доступ': 'O'},\n  {'запрещен.': 'O'}],\n [{'продавец': 'B-ACTOR'},\n  {'пытается': 'O'},\n  {'удалить': 'O'},\n  {'отзыв': 'O'},\n  {'о': 'O'},\n  {'своем': 'O'},\n  {'магазине,': 'O'},\n  {'который': 'O'},\n  {'уже': 'O'},\n  {'был': 'O'},\n  {'удален.': 'O'},\n  {'действие:': 'O'},\n  {'delete-запрос': 'B-REQUEST_TYPE'},\n  {'к': 'O'},\n  {'конечной': 'O'},\n  {'точке': 'O'},\n  {'\"/seller/review/remove\"': 'O'},\n  {'с': 'O'},\n  {'недопустимым': 'O'},\n  {'review_id.': 'O'},\n  {'ожидаемый': 'O'},\n  {'ответ:': 'O'},\n  {'код': 'O'},\n  {'ошибки': 'O'},\n  {'404': 'B-RESPONSE_CODE'},\n  {'-': 'O'},\n  {'отзыв': 'O'},\n  {'уже': 'O'},\n  {'удален': 'O'},\n  {'или': 'O'},\n  {'не': 'O'},\n  {'существует.': 'O'}],\n [{'покупатель': 'B-ACTOR'},\n  {'пытается': 'O'},\n  {'удалить': 'O'},\n  {'несуществующий': 'O'},\n  {'товар': 'O'},\n  {'из': 'O'},\n  {'списка': 'O'},\n  {'желаемого.': 'O'},\n  {'действие:': 'O'},\n  {'delete-запрос': 'B-REQUEST_TYPE'},\n  {'к': 'O'},\n  {'конечной': 'O'},\n  {'точке': 'O'},\n  {'\"/wishlist/item/remove\"': 'O'},\n  {'с': 'O'},\n  {'недопустимым': 'O'},\n  {'item_id.': 'O'},\n  {'ожидаемый': 'O'},\n  {'ответ:': 'O'},\n  {'код': 'O'},\n  {'ошибки': 'O'},\n  {'404': 'B-RESPONSE_CODE'},\n  {'-': 'O'},\n  {'товар': 'O'},\n  {'не': 'O'},\n  {'найден': 'O'},\n  {'в': 'O'},\n  {'списке': 'O'},\n  {'желаемого.': 'O'}],\n [{'продавец': 'B-ACTOR'},\n  {'пытается': 'O'},\n  {'удалить': 'O'},\n  {'заказ,': 'O'},\n  {'который': 'O'},\n  {'уже': 'O'},\n  {'был': 'O'},\n  {'отменен.': 'O'},\n  {'действие:': 'O'},\n  {'delete-запрос': 'B-REQUEST_TYPE'},\n  {'к': 'O'},\n  {'конечной': 'O'},\n  {'точке': 'O'},\n  {'\"/order/remove\"': 'O'},\n  {'с': 'O'},\n  {'недопустимым': 'O'},\n  {'order_id.': 'O'},\n  {'ожидаемый': 'O'},\n  {'ответ:': 'O'},\n  {'код': 'O'},\n  {'ошибки': 'O'},\n  {'403': 'B-RESPONSE_CODE'},\n  {'-': 'O'},\n  {'нельзя': 'O'},\n  {'удалить': 'O'},\n  {'уже': 'O'},\n  {'отмененный': 'O'},\n  {'заказ.': 'O'}],\n [{'покупатель': 'B-ACTOR'},\n  {'пытается': 'O'},\n  {'удалить': 'O'},\n  {'товар': 'O'},\n  {'из': 'O'},\n  {'корзины,': 'O'},\n  {'но': 'O'},\n  {'сессия': 'O'},\n  {'истекла.': 'O'},\n  {'действие:': 'O'},\n  {'delete-запрос': 'B-REQUEST_TYPE'},\n  {'к': 'O'},\n  {'конечной': 'O'},\n  {'точке': 'O'},\n  {'\"/cart/item/remove\"': 'O'},\n  {'после': 'O'},\n  {'истечения': 'O'},\n  {'срока': 'O'},\n  {'сессии.': 'O'},\n  {'ожидаемый': 'O'},\n  {'ответ:': 'O'},\n  {'код': 'O'},\n  {'ошибки': 'O'},\n  {'401': 'B-RESPONSE_CODE'},\n  {'-': 'O'},\n  {'сессия': 'O'},\n  {'истекла,': 'O'},\n  {'необходима': 'O'},\n  {'повторная': 'O'},\n  {'авторизация.': 'O'}],\n [{'продавец': 'B-ACTOR'},\n  {'пытается': 'O'},\n  {'удалить': 'O'},\n  {'несуществующий': 'O'},\n  {'товар': 'O'},\n  {'из': 'O'},\n  {'своего': 'O'},\n  {'каталога.': 'O'},\n  {'действие:': 'O'},\n  {'delete-запрос': 'B-REQUEST_TYPE'},\n  {'к': 'O'},\n  {'конечной': 'O'},\n  {'точке': 'O'},\n  {'\"/store/product/remove\"': 'O'},\n  {'с': 'O'},\n  {'недопустимым': 'O'},\n  {'product_id.': 'O'},\n  {'ожидаемый': 'O'},\n  {'ответ:': 'O'},\n  {'код': 'O'},\n  {'ошибки': 'O'},\n  {'404': 'B-RESPONSE_CODE'},\n  {'-': 'O'},\n  {'товар': 'O'},\n  {'не': 'O'},\n  {'найден': 'O'},\n  {'в': 'O'},\n  {'каталоге': 'O'},\n  {'продавца.': 'O'}],\n [{'покупатель': 'B-ACTOR'},\n  {'пытается': 'O'},\n  {'удалить': 'O'},\n  {'товар': 'O'},\n  {'из': 'O'},\n  {'корзины,': 'O'},\n  {'который': 'O'},\n  {'уже': 'O'},\n  {'был': 'O'},\n  {'оплачен.': 'O'},\n  {'действие:': 'O'},\n  {'delete-запрос': 'B-REQUEST_TYPE'},\n  {'к': 'O'},\n  {'конечной': 'O'},\n  {'точке': 'O'},\n  {'\"/cart/item/remove\"': 'O'},\n  {'с': 'O'},\n  {'недопустимым': 'O'},\n  {'item_id.': 'O'},\n  {'ожидаемый': 'O'},\n  {'ответ:': 'O'},\n  {'код': 'O'},\n  {'ошибки': 'O'},\n  {'403': 'B-RESPONSE_CODE'},\n  {'-': 'O'},\n  {'нельзя': 'O'},\n  {'удалить': 'O'},\n  {'товар': 'O'},\n  {'из': 'O'},\n  {'корзины': 'O'},\n  {'после': 'O'},\n  {'оплаты': 'O'},\n  {'заказа.': 'O'}],\n [{'модератор': 'B-ACTOR'},\n  {'пытается': 'O'},\n  {'удалить': 'O'},\n  {'несуществующий': 'O'},\n  {'отзыв': 'O'},\n  {'из': 'O'},\n  {'базы': 'O'},\n  {'данных.': 'O'},\n  {'действие:': 'O'},\n  {'delete-запрос': 'B-REQUEST_TYPE'},\n  {'к': 'O'},\n  {'конечной': 'O'},\n  {'точке': 'O'},\n  {'\"/reviews/remove\"': 'O'},\n  {'с': 'O'},\n  {'недопустимым': 'O'},\n  {'review_id.': 'O'},\n  {'ожидаемый': 'O'},\n  {'ответ:': 'O'},\n  {'код': 'O'},\n  {'ошибки': 'O'},\n  {'404': 'B-RESPONSE_CODE'},\n  {'-': 'O'},\n  {'отзыв': 'O'},\n  {'не': 'O'},\n  {'найден.': 'O'}],\n [{'администратор': 'B-ACTOR'},\n  {'пытается': 'O'},\n  {'удалить': 'O'},\n  {'пользователя,': 'O'},\n  {'который': 'O'},\n  {'уже': 'O'},\n  {'удален': 'O'},\n  {'из': 'O'},\n  {'системы.': 'O'},\n  {'действие:': 'O'},\n  {'delete-запрос': 'B-REQUEST_TYPE'},\n  {'к': 'O'},\n  {'конечной': 'O'},\n  {'точке': 'O'},\n  {'\"/users/remove\"': 'O'},\n  {'с': 'O'},\n  {'недопустимым': 'O'},\n  {'user_id.': 'O'},\n  {'ожидаемый': 'O'},\n  {'ответ:': 'O'},\n  {'код': 'O'},\n  {'ошибки': 'O'},\n  {'404': 'B-RESPONSE_CODE'},\n  {'-': 'O'},\n  {'пользователь': 'B-ACTOR'},\n  {'уже': 'O'},\n  {'удален': 'O'},\n  {'из': 'O'},\n  {'системы.': 'O'}],\n [{'система': 'B-ACTOR'},\n  {'пытается': 'O'},\n  {'удалить': 'O'},\n  {'файл,': 'O'},\n  {'к': 'O'},\n  {'которому': 'O'},\n  {'у': 'O'},\n  {'нее': 'O'},\n  {'нет': 'O'},\n  {'доступа.': 'O'},\n  {'действие:': 'O'},\n  {'delete-запрос': 'B-REQUEST_TYPE'},\n  {'к': 'O'},\n  {'конечной': 'O'},\n  {'точке': 'O'},\n  {'\"/files/remove\"': 'O'},\n  {'без': 'O'},\n  {'необходимых': 'O'},\n  {'разрешений.': 'O'},\n  {'ожидаемый': 'O'},\n  {'ответ:': 'O'},\n  {'код': 'O'},\n  {'ошибки': 'O'},\n  {'403': 'B-RESPONSE_CODE'},\n  {'-': 'O'},\n  {'отказано': 'O'},\n  {'в': 'O'},\n  {'доступе': 'O'},\n  {'к': 'O'},\n  {'удалению': 'O'},\n  {'файла.': 'O'}],\n [{'бухгалтер': 'B-ACTOR'},\n  {'пытается': 'O'},\n  {'удалить': 'O'},\n  {'счет,': 'O'},\n  {'который': 'O'},\n  {'уже': 'O'},\n  {'был': 'O'},\n  {'оплачен': 'O'},\n  {'клиентом.': 'O'},\n  {'действие:': 'O'},\n  {'delete-запрос': 'B-REQUEST_TYPE'},\n  {'к': 'O'},\n  {'конечной': 'O'},\n  {'точке': 'O'},\n  {'\"/invoices/remove\"': 'O'},\n  {'с': 'O'},\n  {'недопустимым': 'O'},\n  {'invoice_id.': 'O'},\n  {'ожидаемый': 'O'},\n  {'ответ:': 'O'},\n  {'код': 'O'},\n  {'ошибки': 'O'},\n  {'403': 'B-RESPONSE_CODE'},\n  {'-': 'O'},\n  {'нельзя': 'O'},\n  {'удалить': 'O'},\n  {'оплаченный': 'O'},\n  {'счет.': 'O'}],\n [{'рекламный': 'B-ACTOR'},\n  {'агент': 'B-ACTOR'},\n  {'пытается': 'O'},\n  {'удалить': 'O'},\n  {'кампанию,': 'O'},\n  {'которая': 'O'},\n  {'уже': 'O'},\n  {'завершена.': 'O'},\n  {'действие:': 'O'},\n  {'delete-запрос': 'B-REQUEST_TYPE'},\n  {'к': 'O'},\n  {'конечной': 'O'},\n  {'точке': 'O'},\n  {'\"/campaigns/remove\"': 'O'},\n  {'с': 'O'},\n  {'недопустимым': 'O'},\n  {'campaign_id.': 'O'},\n  {'ожидаемый': 'O'},\n  {'ответ:': 'O'},\n  {'код': 'O'},\n  {'ошибки': 'O'},\n  {'403': 'B-RESPONSE_CODE'},\n  {'-': 'O'},\n  {'нельзя': 'O'},\n  {'удалить': 'O'},\n  {'завершенную': 'O'},\n  {'рекламную': 'O'},\n  {'кампанию.': 'O'}],\n [{'техническая': 'B-ACTOR'},\n  {'поддержка': 'O'},\n  {'пытается': 'O'},\n  {'удалить': 'O'},\n  {'заявку,': 'O'},\n  {'которая': 'O'},\n  {'уже': 'O'},\n  {'была': 'O'},\n  {'закрыта.': 'O'},\n  {'действие:': 'O'},\n  {'delete-запрос': 'B-REQUEST_TYPE'},\n  {'к': 'O'},\n  {'конечной': 'O'},\n  {'точке': 'O'},\n  {'\"/tickets/remove\"': 'O'},\n  {'с': 'O'},\n  {'недопустимым': 'O'},\n  {'ticket_id.': 'O'},\n  {'ожидаемый': 'O'},\n  {'ответ:': 'O'},\n  {'код': 'O'},\n  {'ошибки': 'O'},\n  {'403': 'B-RESPONSE_CODE'},\n  {'-': 'O'},\n  {'нельзя': 'O'},\n  {'удалить': 'O'},\n  {'закрытую': 'O'},\n  {'заявку.': 'O'}],\n [{'программист': 'B-ACTOR'},\n  {'пытается': 'O'},\n  {'удалить': 'O'},\n  {'код': 'O'},\n  {'из': 'O'},\n  {'репозитория': 'O'},\n  {'без': 'O'},\n  {'необходимых': 'O'},\n  {'прав': 'O'},\n  {'доступа.': 'O'},\n  {'действие:': 'O'},\n  {'delete-запрос': 'B-REQUEST_TYPE'},\n  {'к': 'O'},\n  {'конечной': 'O'},\n  {'точке': 'O'},\n  {'\"/repository/code/remove\"': 'O'},\n  {'без': 'O'},\n  {'необходимых': 'O'},\n  {'разрешений.': 'O'},\n  {'ожидаемый': 'O'},\n  {'ответ:': 'O'},\n  {'код': 'O'},\n  {'ошибки': 'O'},\n  {'403': 'B-RESPONSE_CODE'},\n  {'-': 'O'},\n  {'отказано': 'O'},\n  {'в': 'O'},\n  {'доступе': 'O'},\n  {'к': 'O'},\n  {'удалению': 'O'},\n  {'кода': 'O'},\n  {'из': 'O'},\n  {'репозитория.': 'O'}],\n [{'директор': 'B-ACTOR'},\n  {'пытается': 'O'},\n  {'удалить': 'O'},\n  {'отчет,': 'O'},\n  {'который': 'O'},\n  {'уже': 'O'},\n  {'был': 'O'},\n  {'отправлен': 'O'},\n  {'партнерам.': 'O'},\n  {'действие:': 'O'},\n  {'delete-запрос': 'B-REQUEST_TYPE'},\n  {'к': 'O'},\n  {'конечной': 'O'},\n  {'точке': 'O'},\n  {'\"/reports/remove\"': 'O'},\n  {'с': 'O'},\n  {'недопустимым': 'O'},\n  {'report_id.': 'O'},\n  {'ожидаемый': 'O'},\n  {'ответ:': 'O'},\n  {'код': 'O'},\n  {'ошибки': 'O'},\n  {'403': 'B-RESPONSE_CODE'},\n  {'-': 'O'},\n  {'нельзя': 'O'},\n  {'удалить': 'O'},\n  {'уже': 'O'},\n  {'отправленный': 'O'},\n  {'отчет.': 'O'}],\n [{'менеджер': 'B-ACTOR'},\n  {'проекта': 'O'},\n  {'пытается': 'O'},\n  {'удалить': 'O'},\n  {'задачу,': 'O'},\n  {'которая': 'O'},\n  {'уже': 'O'},\n  {'была': 'O'},\n  {'выполнена.': 'O'},\n  {'действие:': 'O'},\n  {'delete-запрос': 'B-REQUEST_TYPE'},\n  {'к': 'O'},\n  {'конечной': 'O'},\n  {'точке': 'O'},\n  {'\"/tasks/remove\"': 'O'},\n  {'с': 'O'},\n  {'недопустимым': 'O'},\n  {'task_id.': 'O'},\n  {'ожидаемый': 'O'},\n  {'ответ:': 'O'},\n  {'код': 'O'},\n  {'ошибки': 'O'},\n  {'403': 'B-RESPONSE_CODE'},\n  {'-': 'O'},\n  {'нельзя': 'O'},\n  {'удалить': 'O'},\n  {'выполненную': 'O'},\n  {'задачу.': 'O'}],\n [{'администратор': 'B-ACTOR'},\n  {'базы': 'O'},\n  {'данных': 'O'},\n  {'пытается': 'O'},\n  {'удалить': 'O'},\n  {'запись,': 'O'},\n  {'к': 'O'},\n  {'которой': 'O'},\n  {'нет': 'O'},\n  {'доступа.': 'O'},\n  {'действие:': 'O'},\n  {'delete-запрос': 'B-REQUEST_TYPE'},\n  {'к': 'O'},\n  {'конечной': 'O'},\n  {'точке': 'O'},\n  {'\"/database/records/remove\"': 'O'},\n  {'без': 'O'},\n  {'необходимых': 'O'},\n  {'разрешений.': 'O'},\n  {'ожидаемый': 'O'},\n  {'ответ:': 'O'},\n  {'код': 'O'},\n  {'ошибки': 'O'},\n  {'403': 'B-RESPONSE_CODE'},\n  {'-': 'O'},\n  {'отказано': 'O'},\n  {'в': 'O'},\n  {'доступе': 'O'},\n  {'к': 'O'},\n  {'удалению': 'O'},\n  {'записи.': 'O'}],\n [{'менеджер': 'B-ACTOR'},\n  {'ресурсов': 'O'},\n  {'пытается': 'O'},\n  {'удалить': 'O'},\n  {'ресурс,': 'O'},\n  {'который': 'O'},\n  {'уже': 'O'},\n  {'используется': 'O'},\n  {'в': 'O'},\n  {'проекте.': 'O'},\n  {'действие:': 'O'},\n  {'delete-запрос': 'B-REQUEST_TYPE'},\n  {'к': 'O'},\n  {'конечной': 'O'},\n  {'точке': 'O'},\n  {'\"/resources/remove\"': 'O'},\n  {'с': 'O'},\n  {'недопустимым': 'O'},\n  {'resource_id.': 'O'},\n  {'ожидаемый': 'O'},\n  {'ответ:': 'O'},\n  {'код': 'O'},\n  {'ошибки': 'O'},\n  {'403': 'B-RESPONSE_CODE'},\n  {'-': 'O'},\n  {'нельзя': 'O'},\n  {'удалить': 'O'},\n  {'используемый': 'O'},\n  {'ресурс.': 'O'}],\n [{'дизайнер': 'B-ACTOR'},\n  {'пытается': 'O'},\n  {'удалить': 'O'},\n  {'файл,': 'O'},\n  {'который': 'O'},\n  {'был': 'O'},\n  {'уже': 'O'},\n  {'удален': 'O'},\n  {'администратором.': 'O'},\n  {'действие:': 'O'},\n  {'delete-запрос': 'B-REQUEST_TYPE'},\n  {'к': 'O'},\n  {'конечной': 'O'},\n  {'точке': 'O'},\n  {'\"/designs/remove\"': 'O'},\n  {'с': 'O'},\n  {'недопустимым': 'O'},\n  {'file_id.': 'O'},\n  {'ожидаемый': 'O'},\n  {'ответ:': 'O'},\n  {'код': 'O'},\n  {'ошибки': 'O'},\n  {'404': 'B-RESPONSE_CODE'},\n  {'-': 'O'},\n  {'файл': 'O'},\n  {'уже': 'O'},\n  {'удален.': 'O'}],\n [{'редактор': 'B-ACTOR'},\n  {'контента': 'O'},\n  {'пытается': 'O'},\n  {'удалить': 'O'},\n  {'статью,': 'O'},\n  {'которая': 'O'},\n  {'была': 'O'},\n  {'уже': 'O'},\n  {'опубликована.': 'O'},\n  {'действие:': 'O'},\n  {'delete-запрос': 'B-REQUEST_TYPE'},\n  {'к': 'O'},\n  {'конечной': 'O'},\n  {'точке': 'O'},\n  {'\"/content/articles/remove\"': 'O'},\n  {'с': 'O'},\n  {'недопустимым': 'O'},\n  {'article_id.': 'O'},\n  {'ожидаемый': 'O'},\n  {'ответ:': 'O'},\n  {'код': 'O'},\n  {'ошибки': 'O'},\n  {'403': 'B-RESPONSE_CODE'},\n  {'-': 'O'},\n  {'нельзя': 'O'},\n  {'удалить': 'O'},\n  {'опубликованную': 'O'},\n  {'статью.': 'O'}],\n [{'аналитик': 'B-ACTOR'},\n  {'пытается': 'O'},\n  {'удалить': 'O'},\n  {'отчет,': 'O'},\n  {'который': 'O'},\n  {'был': 'O'},\n  {'уже': 'O'},\n  {'отправлен': 'O'},\n  {'заказчику.': 'O'},\n  {'действие:': 'O'},\n  {'delete-запрос': 'B-REQUEST_TYPE'},\n  {'к': 'O'},\n  {'конечной': 'O'},\n  {'точке': 'O'},\n  {'\"/analytics/reports/remove\"': 'O'},\n  {'с': 'O'},\n  {'недопустимым': 'O'},\n  {'report_id.': 'O'},\n  {'ожидаемый': 'O'},\n  {'ответ:': 'O'},\n  {'код': 'O'},\n  {'ошибки': 'O'},\n  {'403': 'B-RESPONSE_CODE'},\n  {'-': 'O'},\n  {'нельзя': 'O'},\n  {'удалить': 'O'},\n  {'отправленный': 'O'},\n  {'отчет.': 'O'}],\n [{'курьер': 'B-ACTOR'},\n  {'пытается': 'O'},\n  {'удалить': 'O'},\n  {'заказ,': 'O'},\n  {'который': 'O'},\n  {'уже': 'O'},\n  {'был': 'O'},\n  {'доставлен': 'O'},\n  {'клиенту.': 'O'},\n  {'действие:': 'O'},\n  {'delete-запрос': 'B-REQUEST_TYPE'},\n  {'к': 'O'},\n  {'конечной': 'O'},\n  {'точке': 'O'},\n  {'\"/orders/remove\"': 'O'},\n  {'с': 'O'},\n  {'недопустимым': 'O'},\n  {'order_id.': 'O'},\n  {'ожидаемый': 'O'},\n  {'ответ:': 'O'},\n  {'код': 'O'},\n  {'ошибки': 'O'},\n  {'403': 'B-RESPONSE_CODE'},\n  {'-': 'O'},\n  {'нельзя': 'O'},\n  {'удалить': 'O'},\n  {'уже': 'O'},\n  {'доставленный': 'O'},\n  {'заказ.': 'O'}],\n [{'финансовый': 'B-ACTOR'},\n  {'аналитик': 'B-ACTOR'},\n  {'пытается': 'O'},\n  {'удалить': 'O'},\n  {'транзакцию,': 'O'},\n  {'которая': 'O'},\n  {'уже': 'O'},\n  {'была': 'O'},\n  {'проведена.': 'O'},\n  {'действие:': 'O'},\n  {'delete-запрос': 'B-REQUEST_TYPE'},\n  {'к': 'O'},\n  {'конечной': 'O'},\n  {'точке': 'O'},\n  {'\"/transactions/remove\"': 'O'},\n  {'с': 'O'},\n  {'недопустимым': 'O'},\n  {'transaction_id.': 'O'},\n  {'ожидаемый': 'O'},\n  {'ответ:': 'O'},\n  {'код': 'O'},\n  {'ошибки': 'O'},\n  {'403': 'B-RESPONSE_CODE'},\n  {'-': 'O'},\n  {'нельзя': 'O'},\n  {'удалить': 'O'},\n  {'проведенную': 'O'},\n  {'транзакцию.': 'O'}],\n [{'технический': 'B-ACTOR'},\n  {'писатель': 'B-ACTOR'},\n  {'пытается': 'O'},\n  {'удалить': 'O'},\n  {'документ,': 'O'},\n  {'который': 'O'},\n  {'уже': 'O'},\n  {'был': 'O'},\n  {'отправлен': 'O'},\n  {'заказчику.': 'O'},\n  {'действие:': 'O'},\n  {'delete-запрос': 'B-REQUEST_TYPE'},\n  {'к': 'O'},\n  {'конечной': 'O'},\n  {'точке': 'O'},\n  {'\"/documents/remove\"': 'O'},\n  {'с': 'O'},\n  {'недопустимым': 'O'},\n  {'document_id.': 'O'},\n  {'ожидаемый': 'O'},\n  {'ответ:': 'O'},\n  {'код': 'O'},\n  {'ошибки': 'O'},\n  {'403': 'B-RESPONSE_CODE'},\n  {'-': 'O'},\n  {'нельзя': 'O'},\n  {'удалить': 'O'},\n  {'отправленный': 'O'},\n  {'документ.': 'O'}],\n [{'тестировщик': 'B-ACTOR'},\n  {'пытается': 'O'},\n  {'удалить': 'O'},\n  {'отчет': 'O'},\n  {'о': 'O'},\n  {'тестировании,': 'O'},\n  {'который': 'O'},\n  {'уже': 'O'},\n  {'был': 'O'},\n  {'проверен': 'O'},\n  {'руководителем.': 'O'},\n  {'действие:': 'O'},\n  {'delete-запрос': 'B-REQUEST_TYPE'},\n  {'к': 'O'},\n  {'конечной': 'O'},\n  {'точке': 'O'},\n  {'\"/testing/reports/remove\"': 'O'},\n  {'с': 'O'},\n  {'недопустимым': 'O'},\n  {'report_id.': 'O'},\n  {'ожидаемый': 'O'},\n  {'ответ:': 'O'},\n  {'код': 'O'},\n  {'ошибки': 'O'},\n  {'403': 'B-RESPONSE_CODE'},\n  {'-': 'O'},\n  {'нельзя': 'O'},\n  {'удалить': 'O'},\n  {'проверенный': 'O'},\n  {'отчет.': 'O'}],\n [{'программист': 'B-ACTOR'},\n  {'пытается': 'O'},\n  {'удалить': 'O'},\n  {'код': 'O'},\n  {'из': 'O'},\n  {'репозитория': 'O'},\n  {'без': 'O'},\n  {'необходимых': 'O'},\n  {'прав': 'O'},\n  {'доступа.': 'O'},\n  {'действие:': 'O'},\n  {'delete-запрос': 'B-REQUEST_TYPE'},\n  {'к': 'O'},\n  {'конечной': 'O'},\n  {'точке': 'O'},\n  {'\"/repository/code/remove\"': 'O'},\n  {'без': 'O'},\n  {'необходимых': 'O'},\n  {'разрешений.': 'O'},\n  {'ожидаемый': 'O'},\n  {'ответ:': 'O'},\n  {'код': 'O'},\n  {'ошибки': 'O'},\n  {'403': 'B-RESPONSE_CODE'},\n  {'-': 'O'},\n  {'отказано': 'O'},\n  {'в': 'O'},\n  {'доступе': 'O'},\n  {'к': 'O'},\n  {'удалению': 'O'},\n  {'кода': 'O'},\n  {'из': 'O'},\n  {'репозитория.': 'O'}],\n [{'менеджер': 'B-ACTOR'},\n  {'проекта': 'O'},\n  {'пытается': 'O'},\n  {'удалить': 'O'},\n  {'задачу,': 'O'},\n  {'которая': 'O'},\n  {'уже': 'O'},\n  {'была': 'O'},\n  {'выполнена.': 'O'},\n  {'действие:': 'O'},\n  {'delete-запрос': 'B-REQUEST_TYPE'},\n  {'к': 'O'},\n  {'конечной': 'O'},\n  {'точке': 'O'},\n  {'\"/tasks/remove\"': 'O'},\n  {'с': 'O'},\n  {'недопустимым': 'O'},\n  {'task_id.': 'O'},\n  {'ожидаемый': 'O'},\n  {'ответ:': 'O'},\n  {'код': 'O'},\n  {'ошибки': 'O'},\n  {'403': 'B-RESPONSE_CODE'},\n  {'-': 'O'},\n  {'нельзя': 'O'},\n  {'удалить': 'O'},\n  {'выполненную': 'O'},\n  {'задачу.': 'O'}],\n [{'администратор': 'B-ACTOR'},\n  {'базы': 'O'},\n  {'данных': 'O'},\n  {'пытается': 'O'},\n  {'удалить': 'O'},\n  {'запись,': 'O'},\n  {'к': 'O'},\n  {'которой': 'O'},\n  {'нет': 'O'},\n  {'доступа.': 'O'},\n  {'действие:': 'O'},\n  {'delete-запрос': 'B-REQUEST_TYPE'},\n  {'к': 'O'},\n  {'конечной': 'O'},\n  {'точке': 'O'},\n  {'\"/database/records/remove\"': 'O'},\n  {'без': 'O'},\n  {'необходимых': 'O'},\n  {'разрешений.': 'O'},\n  {'ожидаемый': 'O'},\n  {'ответ:': 'O'},\n  {'код': 'O'},\n  {'ошибки': 'O'},\n  {'403': 'B-RESPONSE_CODE'},\n  {'-': 'O'},\n  {'отказано': 'O'},\n  {'в': 'O'},\n  {'доступе': 'O'},\n  {'к': 'O'},\n  {'удалению': 'O'},\n  {'записи.': 'O'}],\n [{'менеджер': 'B-ACTOR'},\n  {'ресурсов': 'O'},\n  {'пытается': 'O'},\n  {'удалить': 'O'},\n  {'ресурс,': 'O'},\n  {'который': 'O'},\n  {'уже': 'O'},\n  {'используется': 'O'},\n  {'в': 'O'},\n  {'проекте.': 'O'},\n  {'действие:': 'O'},\n  {'delete-запрос': 'B-REQUEST_TYPE'},\n  {'к': 'O'},\n  {'конечной': 'O'},\n  {'точке': 'O'},\n  {'\"/resources/remove\"': 'O'},\n  {'с': 'O'},\n  {'недопустимым': 'O'},\n  {'resource_id.': 'O'},\n  {'ожидаемый': 'O'},\n  {'ответ:': 'O'},\n  {'код': 'O'},\n  {'ошибки': 'O'},\n  {'403': 'B-RESPONSE_CODE'},\n  {'-': 'O'},\n  {'нельзя': 'O'},\n  {'удалить': 'O'},\n  {'используемый': 'O'},\n  {'ресурс.': 'O'}],\n [{'дизайнер': 'B-ACTOR'},\n  {'пытается': 'O'},\n  {'удалить': 'O'},\n  {'файл,': 'O'},\n  {'который': 'O'},\n  {'был': 'O'},\n  {'уже': 'O'},\n  {'удален': 'O'},\n  {'администратором.': 'O'},\n  {'действие:': 'O'},\n  {'delete-запрос': 'B-REQUEST_TYPE'},\n  {'к': 'O'},\n  {'конечной': 'O'},\n  {'точке': 'O'},\n  {'\"/designs/remove\"': 'O'},\n  {'с': 'O'},\n  {'недопустимым': 'O'},\n  {'file_id.': 'O'},\n  {'ожидаемый': 'O'},\n  {'ответ:': 'O'},\n  {'код': 'O'},\n  {'ошибки': 'O'},\n  {'404': 'B-RESPONSE_CODE'},\n  {'-': 'O'},\n  {'файл': 'O'},\n  {'уже': 'O'},\n  {'удален.': 'O'}],\n [{'редактор': 'B-ACTOR'},\n  {'контента': 'O'},\n  {'пытается': 'O'},\n  {'удалить': 'O'},\n  {'статью,': 'O'},\n  {'которая': 'O'},\n  {'была': 'O'},\n  {'уже': 'O'},\n  {'опубликована.': 'O'},\n  {'действие:': 'O'},\n  {'delete-запрос': 'B-REQUEST_TYPE'},\n  {'к': 'O'},\n  {'конечной': 'O'},\n  {'точке': 'O'},\n  {'\"/content/articles/remove\"': 'O'},\n  {'с': 'O'},\n  {'недопустимым': 'O'},\n  {'article_id.': 'O'},\n  {'ожидаемый': 'O'},\n  {'ответ:': 'O'},\n  {'код': 'O'},\n  {'ошибки': 'O'},\n  {'403': 'B-RESPONSE_CODE'},\n  {'-': 'O'},\n  {'нельзя': 'O'},\n  {'удалить': 'O'},\n  {'опубликованную': 'O'},\n  {'статью.': 'O'}],\n [{'аналитик': 'B-ACTOR'},\n  {'пытается': 'O'},\n  {'удалить': 'O'},\n  {'отчет,': 'O'},\n  {'который': 'O'},\n  {'был': 'O'},\n  {'уже': 'O'},\n  {'отправлен': 'O'},\n  {'заказчику.': 'O'},\n  {'действие:': 'O'},\n  {'delete-запрос': 'B-REQUEST_TYPE'},\n  {'к': 'O'},\n  {'конечной': 'O'},\n  {'точке': 'O'},\n  {'\"/analytics/reports/remove\"': 'O'},\n  {'с': 'O'},\n  {'недопустимым': 'O'},\n  {'report_id.': 'O'},\n  {'ожидаемый': 'O'},\n  {'ответ:': 'O'},\n  {'код': 'O'},\n  {'ошибки': 'O'},\n  {'403': 'B-RESPONSE_CODE'},\n  {'-': 'O'},\n  {'нельзя': 'O'},\n  {'удалить': 'O'},\n  {'отправленный': 'O'},\n  {'отчет.': 'O'}]]"
     },
     "execution_count": 91,
     "metadata": {},
     "output_type": "execute_result"
    }
   ],
   "source": [
    "prediction"
   ],
   "metadata": {
    "collapsed": false
   }
  },
  {
   "cell_type": "code",
   "execution_count": 91,
   "outputs": [],
   "source": [],
   "metadata": {
    "collapsed": false
   }
  }
 ],
 "metadata": {
  "kernelspec": {
   "display_name": "Python 3",
   "language": "python",
   "name": "python3"
  },
  "language_info": {
   "codemirror_mode": {
    "name": "ipython",
    "version": 2
   },
   "file_extension": ".py",
   "mimetype": "text/x-python",
   "name": "python",
   "nbconvert_exporter": "python",
   "pygments_lexer": "ipython2",
   "version": "2.7.6"
  }
 },
 "nbformat": 4,
 "nbformat_minor": 0
}
